{
 "cells": [
  {
   "cell_type": "markdown",
   "id": "b6a5fa65",
   "metadata": {},
   "source": [
    "# The impact of mass drug administration on trachoma prevalence in Ethiopia (Comparison of cox proportional hazard regression and machine learning models)"
   ]
  },
  {
   "cell_type": "markdown",
   "id": "d5b3da69",
   "metadata": {},
   "source": [
    "## Objective of the study "
   ]
  },
  {
   "cell_type": "markdown",
   "id": "17895f0b",
   "metadata": {},
   "source": [
    "The main purpose of this article is to investigate the impact of mass drug administration on trachoma prevalence in Ethiopia.  The study also specifically \n",
    "   * Identify risk factors associated with trachoma prevalence in Ethiopia\n",
    "   * to compare two models (Cox proportional hazards model and Random survival forest model) to estimate the survival probability given a set of features/covariables.\n"
   ]
  },
  {
   "cell_type": "markdown",
   "id": "a91d30d2",
   "metadata": {},
   "source": [
    "## Description of the data "
   ]
  },
  {
   "cell_type": "markdown",
   "id": "f15be9e4",
   "metadata": {},
   "source": [
    "The study used secondary data obtained from -------------- . the data contains records of more than 700 districts in ethiopia. however, only 377 of the districts were able to included in this particular study. those districts that have not completed atleast one impact survey were excluded becuase of problems in data accuracy and consistency.\n",
    "\n",
    "The time to duration variable is MDA round and the event_ censorship variable is current tf value. if the tv value is less than or equalt to 5, it is considered as *event* otherwise it is *censored*.  \n",
    "\n",
    "The independent variables(covariates) included are \n",
    "   * average MDA coverage \n",
    "   * wash coverage \n",
    "   * impact survey one tf value ( prevalence)\n",
    "   * latrine coverage \n",
    "   * MDA skip \n",
    "   * MDA delay "
   ]
  },
  {
   "cell_type": "markdown",
   "id": "4cb8e637",
   "metadata": {},
   "source": [
    "## Methods "
   ]
  },
  {
   "cell_type": "markdown",
   "id": "ff020622",
   "metadata": {},
   "source": [
    "### The Ph regression model. \n",
    "The Ph regression model is one of the most widely statistical method used to model time to event variable with one or more covariates. The Cox Proportional Hazards Model was introduced by Cox and it takes into account the effect of several variables at a time and examines the relationship of the survival distribution to these variables. For these particualr study, the cox proportional hazard model was used to predict the mda round needed by districts to achieve a tf value of less than 5 from a sets of covariates measured at distict level. "
   ]
  },
  {
   "cell_type": "markdown",
   "id": "a9c9ca4c",
   "metadata": {},
   "source": [
    "### Random survival forest model"
   ]
  },
  {
   "cell_type": "markdown",
   "id": "93a0ead1",
   "metadata": {},
   "source": [
    "Survival data are commonly analyzed using methods that rely on restrictive assumptions such as proportional hazards. Further, because these methods are often parametric, nonlinear effects of variables must be modeled by transformations or expanding the design matrix to include specialized basis functions.Often ad hoc approaches, such as stepwise regression, are used to determine ifnonlinear effects exist. Identifying interactions, especially those involving multiple variables, is also problematic. This must be done by brute force (examining alltwo-way and three-way interactions, e.g.), or must rely on subjective knowledge to narrow the search.\n",
    "In contrast, these difficulties are handled automatically using forests."
   ]
  },
  {
   "cell_type": "code",
   "execution_count": 1,
   "id": "4be98c9f",
   "metadata": {},
   "outputs": [
    {
     "name": "stdout",
     "output_type": "stream",
     "text": [
      "C:\\Users\\AII\\desktop\\trach_377\n"
     ]
    }
   ],
   "source": [
    "cd C:\\\\Users\\\\AII\\\\desktop\\\\trach_377"
   ]
  },
  {
   "cell_type": "markdown",
   "id": "29a36006",
   "metadata": {},
   "source": [
    "# library importing"
   ]
  },
  {
   "cell_type": "code",
   "execution_count": 2,
   "id": "7f087231",
   "metadata": {},
   "outputs": [],
   "source": [
    "import pandas as pd\n",
    "import numpy as np\n",
    "import matplotlib.pyplot as plt\n",
    "import seaborn as sns \n",
    "from lifelines import KaplanMeierFitter\n",
    "from lifelines import NelsonAalenFitter\n",
    "from lifelines import WeibullAFTFitter,LogLogisticAFTFitter,LogNormalAFTFitter\n",
    "from lifelines import CoxPHFitter\n",
    "from lifelines.utils import k_fold_cross_validation"
   ]
  },
  {
   "cell_type": "markdown",
   "id": "fb6f7293",
   "metadata": {},
   "source": [
    "# read the data to python"
   ]
  },
  {
   "cell_type": "code",
   "execution_count": 3,
   "id": "0972ffc4",
   "metadata": {},
   "outputs": [],
   "source": [
    "df = pd.read_csv(\"final_377.csv\")"
   ]
  },
  {
   "cell_type": "markdown",
   "id": "c15349c1",
   "metadata": {},
   "source": [
    "# varaibales included in the data "
   ]
  },
  {
   "cell_type": "code",
   "execution_count": 4,
   "id": "efc993bf",
   "metadata": {},
   "outputs": [
    {
     "data": {
      "text/plain": [
       "Index(['region', 'district', 'sub_district', 'gioconnect_id', 'tf_original',\n",
       "       'tf', 'impact_survey_1_tf', 'mda_skip', 'mda_skip_years',\n",
       "       'mda_skip_year', 'Years_Before_Treatment_Start',\n",
       "       'Years_Before_Treatment_Startt', 'mda_delay', 'mda_round',\n",
       "       ' average_coverage  ', '  wash_imp_percent  ', ' wash_near_percent  ',\n",
       "       '    latrine_imp_percent    ', ' wash_imp_yard_percent ',\n",
       "       ' wash_imp_30_percent '],\n",
       "      dtype='object')"
      ]
     },
     "execution_count": 4,
     "metadata": {},
     "output_type": "execute_result"
    }
   ],
   "source": [
    "df.columns"
   ]
  },
  {
   "cell_type": "markdown",
   "id": "2ea1bcb3",
   "metadata": {},
   "source": [
    "# the first 5 rows"
   ]
  },
  {
   "cell_type": "code",
   "execution_count": 5,
   "id": "83e2c96d",
   "metadata": {
    "scrolled": true
   },
   "outputs": [
    {
     "data": {
      "text/html": [
       "<div>\n",
       "<style scoped>\n",
       "    .dataframe tbody tr th:only-of-type {\n",
       "        vertical-align: middle;\n",
       "    }\n",
       "\n",
       "    .dataframe tbody tr th {\n",
       "        vertical-align: top;\n",
       "    }\n",
       "\n",
       "    .dataframe thead th {\n",
       "        text-align: right;\n",
       "    }\n",
       "</style>\n",
       "<table border=\"1\" class=\"dataframe\">\n",
       "  <thead>\n",
       "    <tr style=\"text-align: right;\">\n",
       "      <th></th>\n",
       "      <th>region</th>\n",
       "      <th>district</th>\n",
       "      <th>sub_district</th>\n",
       "      <th>gioconnect_id</th>\n",
       "      <th>tf_original</th>\n",
       "      <th>tf</th>\n",
       "      <th>impact_survey_1_tf</th>\n",
       "      <th>mda_skip</th>\n",
       "      <th>mda_skip_years</th>\n",
       "      <th>mda_skip_year</th>\n",
       "      <th>Years_Before_Treatment_Start</th>\n",
       "      <th>Years_Before_Treatment_Startt</th>\n",
       "      <th>mda_delay</th>\n",
       "      <th>mda_round</th>\n",
       "      <th>average_coverage</th>\n",
       "      <th>wash_imp_percent</th>\n",
       "      <th>wash_near_percent</th>\n",
       "      <th>latrine_imp_percent</th>\n",
       "      <th>wash_imp_yard_percent</th>\n",
       "      <th>wash_imp_30_percent</th>\n",
       "    </tr>\n",
       "  </thead>\n",
       "  <tbody>\n",
       "    <tr>\n",
       "      <th>0</th>\n",
       "      <td>Afar</td>\n",
       "      <td>Awsa</td>\n",
       "      <td>Aregoba</td>\n",
       "      <td>6113</td>\n",
       "      <td>12.4</td>\n",
       "      <td>0</td>\n",
       "      <td>1</td>\n",
       "      <td>yes</td>\n",
       "      <td>1</td>\n",
       "      <td>1</td>\n",
       "      <td>4</td>\n",
       "      <td>3</td>\n",
       "      <td>yes</td>\n",
       "      <td>2</td>\n",
       "      <td>94%</td>\n",
       "      <td>37%</td>\n",
       "      <td>0.23</td>\n",
       "      <td>6%</td>\n",
       "      <td>0.11</td>\n",
       "      <td>0.14</td>\n",
       "    </tr>\n",
       "    <tr>\n",
       "      <th>1</th>\n",
       "      <td>Afar</td>\n",
       "      <td>Awsa</td>\n",
       "      <td>Awash fentale</td>\n",
       "      <td>6123</td>\n",
       "      <td>5.2</td>\n",
       "      <td>0</td>\n",
       "      <td>0</td>\n",
       "      <td>yes</td>\n",
       "      <td>1</td>\n",
       "      <td>1</td>\n",
       "      <td>4</td>\n",
       "      <td>3</td>\n",
       "      <td>yes</td>\n",
       "      <td>2</td>\n",
       "      <td>94%</td>\n",
       "      <td>72%</td>\n",
       "      <td>0.48</td>\n",
       "      <td>5%</td>\n",
       "      <td>0.23</td>\n",
       "      <td>0.43</td>\n",
       "    </tr>\n",
       "    <tr>\n",
       "      <th>2</th>\n",
       "      <td>Amhara</td>\n",
       "      <td>Awi</td>\n",
       "      <td>Ankesha Guagusa</td>\n",
       "      <td>6261</td>\n",
       "      <td>15.6</td>\n",
       "      <td>0</td>\n",
       "      <td>1</td>\n",
       "      <td>no</td>\n",
       "      <td>0</td>\n",
       "      <td>0</td>\n",
       "      <td>0</td>\n",
       "      <td>0</td>\n",
       "      <td>no</td>\n",
       "      <td>15</td>\n",
       "      <td>74%</td>\n",
       "      <td>45%</td>\n",
       "      <td>0.42</td>\n",
       "      <td>NaN</td>\n",
       "      <td>0.02</td>\n",
       "      <td>0.27</td>\n",
       "    </tr>\n",
       "    <tr>\n",
       "      <th>3</th>\n",
       "      <td>Amhara</td>\n",
       "      <td>Awi</td>\n",
       "      <td>Ayehu</td>\n",
       "      <td>19521</td>\n",
       "      <td>18.4</td>\n",
       "      <td>0</td>\n",
       "      <td>1</td>\n",
       "      <td>no</td>\n",
       "      <td>0</td>\n",
       "      <td>0</td>\n",
       "      <td>0</td>\n",
       "      <td>0</td>\n",
       "      <td>no</td>\n",
       "      <td>16</td>\n",
       "      <td>96%</td>\n",
       "      <td>66%</td>\n",
       "      <td>0.31</td>\n",
       "      <td>2%</td>\n",
       "      <td>0.01</td>\n",
       "      <td>0.23</td>\n",
       "    </tr>\n",
       "    <tr>\n",
       "      <th>4</th>\n",
       "      <td>Amhara</td>\n",
       "      <td>Awi</td>\n",
       "      <td>Banja Shikudad</td>\n",
       "      <td>6278</td>\n",
       "      <td>4.0</td>\n",
       "      <td>1</td>\n",
       "      <td>2</td>\n",
       "      <td>no</td>\n",
       "      <td>0</td>\n",
       "      <td>0</td>\n",
       "      <td>0</td>\n",
       "      <td>0</td>\n",
       "      <td>no</td>\n",
       "      <td>11</td>\n",
       "      <td>98%</td>\n",
       "      <td>77%</td>\n",
       "      <td>0.50</td>\n",
       "      <td>2%</td>\n",
       "      <td>0.02</td>\n",
       "      <td>0.42</td>\n",
       "    </tr>\n",
       "  </tbody>\n",
       "</table>\n",
       "</div>"
      ],
      "text/plain": [
       "   region district     sub_district  gioconnect_id  tf_original  tf  \\\n",
       "0    Afar     Awsa          Aregoba           6113         12.4   0   \n",
       "1    Afar     Awsa    Awash fentale           6123          5.2   0   \n",
       "2  Amhara      Awi  Ankesha Guagusa           6261         15.6   0   \n",
       "3  Amhara      Awi            Ayehu          19521         18.4   0   \n",
       "4  Amhara      Awi   Banja Shikudad           6278          4.0   1   \n",
       "\n",
       "   impact_survey_1_tf mda_skip  mda_skip_years  mda_skip_year  \\\n",
       "0                   1      yes               1              1   \n",
       "1                   0      yes               1              1   \n",
       "2                   1       no               0              0   \n",
       "3                   1       no               0              0   \n",
       "4                   2       no               0              0   \n",
       "\n",
       "   Years_Before_Treatment_Start  Years_Before_Treatment_Startt mda_delay  \\\n",
       "0                             4                              3       yes   \n",
       "1                             4                              3       yes   \n",
       "2                             0                              0        no   \n",
       "3                             0                              0        no   \n",
       "4                             0                              0        no   \n",
       "\n",
       "   mda_round  average_coverage     wash_imp_percent     wash_near_percent    \\\n",
       "0          2                 94%                  37%                  0.23   \n",
       "1          2                 94%                  72%                  0.48   \n",
       "2         15                 74%                  45%                  0.42   \n",
       "3         16                 96%                  66%                  0.31   \n",
       "4         11                 98%                  77%                  0.50   \n",
       "\n",
       "      latrine_imp_percent      wash_imp_yard_percent    wash_imp_30_percent   \n",
       "0                          6%                    0.11                   0.14  \n",
       "1                          5%                    0.23                   0.43  \n",
       "2                         NaN                    0.02                   0.27  \n",
       "3                          2%                    0.01                   0.23  \n",
       "4                          2%                    0.02                   0.42  "
      ]
     },
     "execution_count": 5,
     "metadata": {},
     "output_type": "execute_result"
    }
   ],
   "source": [
    "df.head()"
   ]
  },
  {
   "cell_type": "code",
   "execution_count": 6,
   "id": "5255564b",
   "metadata": {},
   "outputs": [
    {
     "name": "stdout",
     "output_type": "stream",
     "text": [
      "<class 'pandas.core.frame.DataFrame'>\n",
      "RangeIndex: 377 entries, 0 to 376\n",
      "Data columns (total 20 columns):\n",
      " #   Column                         Non-Null Count  Dtype  \n",
      "---  ------                         --------------  -----  \n",
      " 0   region                         377 non-null    object \n",
      " 1   district                       377 non-null    object \n",
      " 2   sub_district                   377 non-null    object \n",
      " 3   gioconnect_id                  377 non-null    int64  \n",
      " 4   tf_original                    377 non-null    float64\n",
      " 5   tf                             377 non-null    int64  \n",
      " 6   impact_survey_1_tf             377 non-null    int64  \n",
      " 7   mda_skip                       377 non-null    object \n",
      " 8   mda_skip_years                 377 non-null    int64  \n",
      " 9   mda_skip_year                  377 non-null    int64  \n",
      " 10  Years_Before_Treatment_Start   377 non-null    int64  \n",
      " 11  Years_Before_Treatment_Startt  377 non-null    int64  \n",
      " 12  mda_delay                      377 non-null    object \n",
      " 13  mda_round                      377 non-null    int64  \n",
      " 14   average_coverage              377 non-null    object \n",
      " 15    wash_imp_percent             334 non-null    object \n",
      " 16   wash_near_percent             334 non-null    float64\n",
      " 17      latrine_imp_percent        320 non-null    object \n",
      " 18   wash_imp_yard_percent         333 non-null    object \n",
      " 19   wash_imp_30_percent           334 non-null    float64\n",
      "dtypes: float64(3), int64(8), object(9)\n",
      "memory usage: 59.0+ KB\n"
     ]
    }
   ],
   "source": [
    "df.info()"
   ]
  },
  {
   "cell_type": "markdown",
   "id": "60b1060b",
   "metadata": {},
   "source": [
    "## data Cleaning "
   ]
  },
  {
   "cell_type": "code",
   "execution_count": 7,
   "id": "7bbbee54",
   "metadata": {},
   "outputs": [],
   "source": [
    "# convert to string \n",
    "df['wash_improved_percent'] = df['  wash_imp_percent  '].astype(str)\n",
    "df['latrine_improved_percent'] = df['    latrine_imp_percent    '].astype(str)\n",
    "df[\"mda_delay\"] = df[\"mda_delay\"].replace({'no':1, 'yes':0}, regex = True)\n",
    " # replacing characters \n",
    "chars_to_remove = ['%']\n",
    "# Replace each character with an empty string\n",
    "for char in chars_to_remove:\n",
    "    df['AV'] = df[' average_coverage  '].apply(lambda x: x.replace(char, ''))\n",
    "    df['wash_improved_percent'] = df['wash_improved_percent'].apply(lambda x: x.replace(char, ''))\n",
    "    df['latrine_improved_percent'] = df['latrine_improved_percent'].apply(lambda x: x.replace(char, ''))\n",
    " # Convert to int   \n",
    "df['AV'] = df['AV'].astype(int)\n",
    "df['wash_improved_percent'] = df['wash_improved_percent'].astype(float)\n",
    "df['latrine_improved_percent'] = df['latrine_improved_percent'].astype(float)"
   ]
  },
  {
   "cell_type": "markdown",
   "id": "86683df8",
   "metadata": {},
   "source": [
    "# checking for missing values "
   ]
  },
  {
   "cell_type": "code",
   "execution_count": 8,
   "id": "e7f098d8",
   "metadata": {
    "scrolled": true
   },
   "outputs": [
    {
     "data": {
      "text/plain": [
       "region                            0\n",
       "district                          0\n",
       "sub_district                      0\n",
       "gioconnect_id                     0\n",
       "tf_original                       0\n",
       "tf                                0\n",
       "impact_survey_1_tf                0\n",
       "mda_skip                          0\n",
       "mda_skip_years                    0\n",
       "mda_skip_year                     0\n",
       "Years_Before_Treatment_Start      0\n",
       "Years_Before_Treatment_Startt     0\n",
       "mda_delay                         0\n",
       "mda_round                         0\n",
       " average_coverage                 0\n",
       "  wash_imp_percent               43\n",
       " wash_near_percent               43\n",
       "    latrine_imp_percent          57\n",
       " wash_imp_yard_percent           44\n",
       " wash_imp_30_percent             43\n",
       "wash_improved_percent            43\n",
       "latrine_improved_percent         57\n",
       "AV                                0\n",
       "dtype: int64"
      ]
     },
     "execution_count": 8,
     "metadata": {},
     "output_type": "execute_result"
    }
   ],
   "source": [
    "df.isnull().sum()"
   ]
  },
  {
   "cell_type": "markdown",
   "id": "35a481b0",
   "metadata": {},
   "source": [
    "# missing values imputting using average "
   ]
  },
  {
   "cell_type": "code",
   "execution_count": 9,
   "id": "b5c77e1a",
   "metadata": {},
   "outputs": [],
   "source": [
    "df['wash_improved_percent'] = df['wash_improved_percent'].fillna(df['wash_improved_percent'].mean())\n",
    "df['latrine_improved_percent'] = df['latrine_improved_percent'].fillna(df['latrine_improved_percent'].mean())"
   ]
  },
  {
   "cell_type": "markdown",
   "id": "bd790d2a",
   "metadata": {},
   "source": [
    "# create dummy variables of the categorical variables "
   ]
  },
  {
   "cell_type": "code",
   "execution_count": 10,
   "id": "9e69efe9",
   "metadata": {},
   "outputs": [],
   "source": [
    "df = pd.get_dummies(df, columns = ['impact_survey_1_tf','mda_skip'])"
   ]
  },
  {
   "cell_type": "markdown",
   "id": "8af17e67",
   "metadata": {},
   "source": [
    "# slicing a subset of variables from data set( variables only used for the analysis)"
   ]
  },
  {
   "cell_type": "code",
   "execution_count": 11,
   "id": "82f2525c",
   "metadata": {},
   "outputs": [],
   "source": [
    "df = df[['region','tf', 'mda_skip_yes','impact_survey_1_tf_1','impact_survey_1_tf_2','mda_delay', 'mda_round', 'AV','wash_improved_percent', 'latrine_improved_percent','tf_original']]"
   ]
  },
  {
   "cell_type": "markdown",
   "id": "d2c1a45c",
   "metadata": {},
   "source": [
    "#  data visualization "
   ]
  },
  {
   "cell_type": "code",
   "execution_count": 12,
   "id": "dfda2e85",
   "metadata": {},
   "outputs": [
    {
     "data": {
      "text/plain": [
       "Text(0, 0.5, 'tf value of districts')"
      ]
     },
     "execution_count": 12,
     "metadata": {},
     "output_type": "execute_result"
    },
    {
     "data": {
      "image/png": "[encoded data removed]",
      "text/plain": [
       "<Figure size 432x432 with 1 Axes>"
      ]
     },
     "metadata": {
      "needs_background": "light"
     },
     "output_type": "display_data"
    }
   ],
   "source": [
    "# bar chaer for the number of districts in the region \n",
    "df.groupby('region')[\"tf_original\"].mean().sort_values(ascending=False).plot(kind = 'bar',color = 'green',figsize = (6,6))\n",
    "plt.ylabel('tf value of districts')"
   ]
  },
  {
   "cell_type": "code",
   "execution_count": 13,
   "id": "c7694118",
   "metadata": {},
   "outputs": [
    {
     "data": {
      "image/png": "[encoded data removed]",
      "text/plain": [
       "<Figure size 432x288 with 1 Axes>"
      ]
     },
     "metadata": {
      "needs_background": "light"
     },
     "output_type": "display_data"
    }
   ],
   "source": [
    "# histogram of the tv value of districts \n",
    "sns.histplot(df[\"tf_original\"], kde = True)\n",
    "plt.show()"
   ]
  },
  {
   "cell_type": "code",
   "execution_count": 14,
   "id": "7e363d9d",
   "metadata": {},
   "outputs": [
    {
     "data": {
      "image/png": "[encoded data removed]",
      "text/plain": [
       "<Figure size 432x288 with 1 Axes>"
      ]
     },
     "metadata": {
      "needs_background": "light"
     },
     "output_type": "display_data"
    }
   ],
   "source": [
    "# histogram of the time variable(mda round) to get an overall idea of the distribution\n",
    "sns.histplot(df[\"mda_round\"], kde = False)\n",
    "plt.show()"
   ]
  },
  {
   "cell_type": "code",
   "execution_count": 15,
   "id": "26d9da43",
   "metadata": {},
   "outputs": [
    {
     "data": {
      "image/png": "[encoded data removed]",
      "text/plain": [
       "<Figure size 720x576 with 1 Axes>"
      ]
     },
     "metadata": {
      "needs_background": "light"
     },
     "output_type": "display_data"
    }
   ],
   "source": [
    "#plot a histogram of the time variable(mda round) to get an overall idea of the distribution. \n",
    "plt.figure(figsize = (10,8))\n",
    "sns.boxplot(x = 'region', y  = 'tf_original',data = df)\n",
    "plt.xticks(rotation = 45)\n",
    "plt.show()"
   ]
  },
  {
   "cell_type": "markdown",
   "id": "19f11494",
   "metadata": {},
   "source": [
    "# The survival function "
   ]
  },
  {
   "cell_type": "markdown",
   "id": "e169f4de",
   "metadata": {},
   "source": [
    "To start with survival analysis, Lets create an overall KaplanMeier curve, without breaking it into groups of covariates."
   ]
  },
  {
   "cell_type": "code",
   "execution_count": 16,
   "id": "7c709d8c",
   "metadata": {},
   "outputs": [
    {
     "name": "stdout",
     "output_type": "stream",
     "text": [
      "The median survival time : 16.0\n"
     ]
    },
    {
     "data": {
      "image/png": "[encoded data removed]",
      "text/plain": [
       "<Figure size 432x288 with 1 Axes>"
      ]
     },
     "metadata": {
      "needs_background": "light"
     },
     "output_type": "display_data"
    }
   ],
   "source": [
    "kmf = KaplanMeierFitter()\n",
    "kmf.fit(durations =  df[\"mda_round\"], event_observed = df[\"tf\"])\n",
    "print(\"The median survival time :\",kmf.median_survival_time_)\n",
    "kmf.plot_survival_function(ci_alpha = 0.001)\n",
    "plt.title(\"The Kaplan-Meier Estimate\")\n",
    "plt.ylabel(\"Probability of trachoma incident\")\n",
    "plt.show()"
   ]
  },
  {
   "cell_type": "markdown",
   "id": "4fb567d7",
   "metadata": {},
   "source": [
    "Kaplan–Meier estimates were used to construct the survival function for the prevalence of trachoma at districts. From the Figure , the median mda round was found to be 16, which indicates that 50% of the districts registered trachoma tf value less than 5 before or at  16 mda round, and the other 50% was not able to until 16 mda round."
   ]
  },
  {
   "cell_type": "code",
   "execution_count": 17,
   "id": "4147b0df",
   "metadata": {},
   "outputs": [
    {
     "data": {
      "text/plain": [
       "<AxesSubplot:title={'center':'Survival of different region'}, xlabel='timeline'>"
      ]
     },
     "execution_count": 17,
     "metadata": {},
     "output_type": "execute_result"
    },
    {
     "data": {
      "image/png": "[encoded data removed]",
      "text/plain": [
       "<Figure size 720x576 with 1 Axes>"
      ]
     },
     "metadata": {
      "needs_background": "light"
     },
     "output_type": "display_data"
    }
   ],
   "source": [
    "# The kaplan_ meier estimate across region\n",
    "T = df[\"mda_round\"]\n",
    "E = df[\"tf\"]\n",
    "fig, ax = plt.subplots(figsize=(10, 8))\n",
    "M = (df[\"region\"] == 'Amhara')\n",
    "kmf.fit(durations = T[M], event_observed = E[M], label = \"amhara\")\n",
    "kmf.plot_survival_function(ax = ax,ci_show = False)\n",
    "G = (df[\"region\"] == 'Tigray')\n",
    "kmf.fit(durations = T[G], event_observed = E[G], label = \"tigray\")\n",
    "kmf.plot_survival_function(ax = ax,ci_show = False)\n",
    "S = (df[\"region\"] == 'Sidama')\n",
    "kmf.fit(durations = T[S], event_observed = E[S], label = \"sidama\")\n",
    "kmf.plot_survival_function(ax = ax,ci_show = False)\n",
    "N = (df[\"region\"] == 'SNNPR')\n",
    "kmf.fit(durations = T[N], event_observed = E[N], label = \"snnpr\")\n",
    "kmf.plot_survival_function(ax = ax,ci_show = False)\n",
    "O = (df[\"region\"] == 'Oromia')\n",
    "kmf.fit(durations = T[O], event_observed = E[O], label = \"oromia\")\n",
    "kmf.plot_survival_function(ax = ax,ci_show = False)\n",
    "K = (df[\"region\"] == 'Somali')\n",
    "kmf.fit(durations = T[K], event_observed = E[K], label = \"somali\")\n",
    "kmf.plot_survival_function(ax = ax,ci_show = False)\n",
    "plt.title(\"Survival of different region\")\n",
    "J = (df[\"region\"] == 'Gambella')\n",
    "kmf.fit(durations = T[J], event_observed = E[J], label = \"gambella\")\n",
    "kmf.plot_survival_function(ax = ax,ci_show = False)"
   ]
  },
  {
   "cell_type": "markdown",
   "id": "a9a5b01a",
   "metadata": {},
   "source": [
    "## Cox proportional hazards\n",
    "The conventional multiple CPH regression is performed to identify the factors associated with districts tv value. The CPH model is a semiparametric approach that computes the impact of a set of given covariates (i.e., features) on the hazard (i.e., risk) of an event occurring (in our case, tv value less than 5). In this case, the hazard of a of a district is a linear function of a population baseline hazard (that changes over mda round) and other predictor covariates (multiplied by their corresponding coefficients). "
   ]
  },
  {
   "cell_type": "code",
   "execution_count": 18,
   "id": "bf3b2c83",
   "metadata": {},
   "outputs": [
    {
     "data": {
      "image/png": "[encoded data removed]",
      "text/plain": [
       "<Figure size 432x432 with 2 Axes>"
      ]
     },
     "metadata": {
      "needs_background": "light"
     },
     "output_type": "display_data"
    }
   ],
   "source": [
    "# perform correlation among continues covariates \n",
    "d = df[['AV', 'wash_improved_percent', 'latrine_improved_percent']]\n",
    "fig , ax1 = plt.subplots(figsize = (6,6))\n",
    "fig = sns.heatmap(d.corr(),annot = True, linewidths =1 , linecolor = 'k',square = True, mask = False, cbar = True)"
   ]
  },
  {
   "cell_type": "markdown",
   "id": "d17afc84",
   "metadata": {},
   "source": [
    "The above correlation matrix clearly shows us there is no significant relation ship among covariates.therefore multicolinearity is not a problem in this model."
   ]
  },
  {
   "cell_type": "code",
   "execution_count": 19,
   "id": "976d6b35",
   "metadata": {},
   "outputs": [
    {
     "data": {
      "text/html": [
       "<div>\n",
       "<style scoped>\n",
       "    .dataframe tbody tr th:only-of-type {\n",
       "        vertical-align: middle;\n",
       "    }\n",
       "\n",
       "    .dataframe tbody tr th {\n",
       "        vertical-align: top;\n",
       "    }\n",
       "\n",
       "    .dataframe thead th {\n",
       "        text-align: right;\n",
       "    }\n",
       "</style>\n",
       "<table border=\"1\" class=\"dataframe\">\n",
       "  <tbody>\n",
       "    <tr>\n",
       "      <th>model</th>\n",
       "      <td>lifelines.CoxPHFitter</td>\n",
       "    </tr>\n",
       "    <tr>\n",
       "      <th>duration col</th>\n",
       "      <td>'mda_round'</td>\n",
       "    </tr>\n",
       "    <tr>\n",
       "      <th>event col</th>\n",
       "      <td>'tf'</td>\n",
       "    </tr>\n",
       "    <tr>\n",
       "      <th>baseline estimation</th>\n",
       "      <td>breslow</td>\n",
       "    </tr>\n",
       "    <tr>\n",
       "      <th>number of observations</th>\n",
       "      <td>377</td>\n",
       "    </tr>\n",
       "    <tr>\n",
       "      <th>number of events observed</th>\n",
       "      <td>84</td>\n",
       "    </tr>\n",
       "    <tr>\n",
       "      <th>partial log-likelihood</th>\n",
       "      <td>-378.53</td>\n",
       "    </tr>\n",
       "    <tr>\n",
       "      <th>time fit was run</th>\n",
       "      <td>2022-08-02 13:36:45 UTC</td>\n",
       "    </tr>\n",
       "  </tbody>\n",
       "</table>\n",
       "</div><table border=\"1\" class=\"dataframe\">\n",
       "  <thead>\n",
       "    <tr style=\"text-align: right;\">\n",
       "      <th style=\"min-width: 12px;\"></th>\n",
       "      <th style=\"min-width: 12px;\">coef</th>\n",
       "      <th style=\"min-width: 12px;\">exp(coef)</th>\n",
       "      <th style=\"min-width: 12px;\">se(coef)</th>\n",
       "      <th style=\"min-width: 12px;\">coef lower 95%</th>\n",
       "      <th style=\"min-width: 12px;\">coef upper 95%</th>\n",
       "      <th style=\"min-width: 12px;\">exp(coef) lower 95%</th>\n",
       "      <th style=\"min-width: 12px;\">exp(coef) upper 95%</th>\n",
       "      <th style=\"min-width: 12px;\">cmp to</th>\n",
       "      <th style=\"min-width: 12px;\">z</th>\n",
       "      <th style=\"min-width: 12px;\">p</th>\n",
       "      <th style=\"min-width: 12px;\">-log2(p)</th>\n",
       "    </tr>\n",
       "  </thead>\n",
       "  <tbody>\n",
       "    <tr>\n",
       "      <th>AV</th>\n",
       "      <td>0.02</td>\n",
       "      <td>1.02</td>\n",
       "      <td>0.01</td>\n",
       "      <td>0.00</td>\n",
       "      <td>0.03</td>\n",
       "      <td>1.00</td>\n",
       "      <td>1.03</td>\n",
       "      <td>0.00</td>\n",
       "      <td>2.14</td>\n",
       "      <td>0.03</td>\n",
       "      <td>4.93</td>\n",
       "    </tr>\n",
       "    <tr>\n",
       "      <th>impact_survey_1_tf_1</th>\n",
       "      <td>-1.22</td>\n",
       "      <td>0.29</td>\n",
       "      <td>0.25</td>\n",
       "      <td>-1.70</td>\n",
       "      <td>-0.74</td>\n",
       "      <td>0.18</td>\n",
       "      <td>0.48</td>\n",
       "      <td>0.00</td>\n",
       "      <td>-4.98</td>\n",
       "      <td>&lt;0.005</td>\n",
       "      <td>20.57</td>\n",
       "    </tr>\n",
       "    <tr>\n",
       "      <th>impact_survey_1_tf_2</th>\n",
       "      <td>-2.41</td>\n",
       "      <td>0.09</td>\n",
       "      <td>0.43</td>\n",
       "      <td>-3.24</td>\n",
       "      <td>-1.58</td>\n",
       "      <td>0.04</td>\n",
       "      <td>0.21</td>\n",
       "      <td>0.00</td>\n",
       "      <td>-5.67</td>\n",
       "      <td>&lt;0.005</td>\n",
       "      <td>26.08</td>\n",
       "    </tr>\n",
       "    <tr>\n",
       "      <th>latrine_improved_percent</th>\n",
       "      <td>0.02</td>\n",
       "      <td>1.02</td>\n",
       "      <td>0.01</td>\n",
       "      <td>0.00</td>\n",
       "      <td>0.04</td>\n",
       "      <td>1.00</td>\n",
       "      <td>1.04</td>\n",
       "      <td>0.00</td>\n",
       "      <td>2.23</td>\n",
       "      <td>0.03</td>\n",
       "      <td>5.28</td>\n",
       "    </tr>\n",
       "    <tr>\n",
       "      <th>mda_delay</th>\n",
       "      <td>-0.55</td>\n",
       "      <td>0.58</td>\n",
       "      <td>0.24</td>\n",
       "      <td>-1.02</td>\n",
       "      <td>-0.08</td>\n",
       "      <td>0.36</td>\n",
       "      <td>0.92</td>\n",
       "      <td>0.00</td>\n",
       "      <td>-2.30</td>\n",
       "      <td>0.02</td>\n",
       "      <td>5.54</td>\n",
       "    </tr>\n",
       "    <tr>\n",
       "      <th>mda_skip_yes</th>\n",
       "      <td>-0.49</td>\n",
       "      <td>0.61</td>\n",
       "      <td>0.23</td>\n",
       "      <td>-0.94</td>\n",
       "      <td>-0.04</td>\n",
       "      <td>0.39</td>\n",
       "      <td>0.96</td>\n",
       "      <td>0.00</td>\n",
       "      <td>-2.14</td>\n",
       "      <td>0.03</td>\n",
       "      <td>4.94</td>\n",
       "    </tr>\n",
       "    <tr>\n",
       "      <th>wash_improved_percent</th>\n",
       "      <td>0.02</td>\n",
       "      <td>1.02</td>\n",
       "      <td>0.01</td>\n",
       "      <td>0.00</td>\n",
       "      <td>0.03</td>\n",
       "      <td>1.00</td>\n",
       "      <td>1.04</td>\n",
       "      <td>0.00</td>\n",
       "      <td>2.32</td>\n",
       "      <td>0.02</td>\n",
       "      <td>5.61</td>\n",
       "    </tr>\n",
       "  </tbody>\n",
       "</table><br><div>\n",
       "<style scoped>\n",
       "    .dataframe tbody tr th:only-of-type {\n",
       "        vertical-align: middle;\n",
       "    }\n",
       "\n",
       "    .dataframe tbody tr th {\n",
       "        vertical-align: top;\n",
       "    }\n",
       "\n",
       "    .dataframe thead th {\n",
       "        text-align: right;\n",
       "    }\n",
       "</style>\n",
       "<table border=\"1\" class=\"dataframe\">\n",
       "  <tbody>\n",
       "    <tr>\n",
       "      <th>Concordance</th>\n",
       "      <td>0.84</td>\n",
       "    </tr>\n",
       "    <tr>\n",
       "      <th>Partial AIC</th>\n",
       "      <td>771.06</td>\n",
       "    </tr>\n",
       "    <tr>\n",
       "      <th>log-likelihood ratio test</th>\n",
       "      <td>103.96 on 7 df</td>\n",
       "    </tr>\n",
       "    <tr>\n",
       "      <th>-log2(p) of ll-ratio test</th>\n",
       "      <td>62.40</td>\n",
       "    </tr>\n",
       "  </tbody>\n",
       "</table>\n",
       "</div>"
      ],
      "text/latex": [
       "\\begin{tabular}{lrrrrrrrrrrr}\n",
       "\\toprule\n",
       "{} &  coef &  exp(coef) &  se(coef) &  coef lower 95\\% &  coef upper 95\\% &  exp(coef) lower 95\\% &  exp(coef) upper 95\\% &  cmp to &     z &    p &  -log2(p) \\\\\n",
       "covariate                &       &            &           &                 &                 &                      &                      &         &       &      &           \\\\\n",
       "\\midrule\n",
       "AV                       &  0.02 &       1.02 &      0.01 &            0.00 &            0.03 &                 1.00 &                 1.03 &    0.00 &  2.14 & 0.03 &      4.93 \\\\\n",
       "impact\\_survey\\_1\\_tf\\_1     & -1.22 &       0.29 &      0.25 &           -1.70 &           -0.74 &                 0.18 &                 0.48 &    0.00 & -4.98 & 0.00 &     20.57 \\\\\n",
       "impact\\_survey\\_1\\_tf\\_2     & -2.41 &       0.09 &      0.43 &           -3.24 &           -1.58 &                 0.04 &                 0.21 &    0.00 & -5.67 & 0.00 &     26.08 \\\\\n",
       "latrine\\_improved\\_percent &  0.02 &       1.02 &      0.01 &            0.00 &            0.04 &                 1.00 &                 1.04 &    0.00 &  2.23 & 0.03 &      5.28 \\\\\n",
       "mda\\_delay                & -0.55 &       0.58 &      0.24 &           -1.02 &           -0.08 &                 0.36 &                 0.92 &    0.00 & -2.30 & 0.02 &      5.54 \\\\\n",
       "mda\\_skip\\_yes             & -0.49 &       0.61 &      0.23 &           -0.94 &           -0.04 &                 0.39 &                 0.96 &    0.00 & -2.14 & 0.03 &      4.94 \\\\\n",
       "wash\\_improved\\_percent    &  0.02 &       1.02 &      0.01 &            0.00 &            0.03 &                 1.00 &                 1.04 &    0.00 &  2.32 & 0.02 &      5.61 \\\\\n",
       "\\bottomrule\n",
       "\\end{tabular}\n"
      ],
      "text/plain": [
       "<lifelines.CoxPHFitter: fitted with 377 total observations, 293 right-censored observations>\n",
       "             duration col = 'mda_round'\n",
       "                event col = 'tf'\n",
       "      baseline estimation = breslow\n",
       "   number of observations = 377\n",
       "number of events observed = 84\n",
       "   partial log-likelihood = -378.53\n",
       "         time fit was run = 2022-08-02 13:36:45 UTC\n",
       "\n",
       "---\n",
       "                           coef  exp(coef)   se(coef)   coef lower 95%   coef upper 95%  exp(coef) lower 95%  exp(coef) upper 95%\n",
       "covariate                                                                                                                        \n",
       "AV                         0.02       1.02       0.01             0.00             0.03                 1.00                 1.03\n",
       "impact_survey_1_tf_1      -1.22       0.29       0.25            -1.70            -0.74                 0.18                 0.48\n",
       "impact_survey_1_tf_2      -2.41       0.09       0.43            -3.24            -1.58                 0.04                 0.21\n",
       "latrine_improved_percent   0.02       1.02       0.01             0.00             0.04                 1.00                 1.04\n",
       "mda_delay                 -0.55       0.58       0.24            -1.02            -0.08                 0.36                 0.92\n",
       "mda_skip_yes              -0.49       0.61       0.23            -0.94            -0.04                 0.39                 0.96\n",
       "wash_improved_percent      0.02       1.02       0.01             0.00             0.03                 1.00                 1.04\n",
       "\n",
       "                           cmp to     z      p   -log2(p)\n",
       "covariate                                                \n",
       "AV                           0.00  2.14   0.03       4.93\n",
       "impact_survey_1_tf_1         0.00 -4.98 <0.005      20.57\n",
       "impact_survey_1_tf_2         0.00 -5.67 <0.005      26.08\n",
       "latrine_improved_percent     0.00  2.23   0.03       5.28\n",
       "mda_delay                    0.00 -2.30   0.02       5.54\n",
       "mda_skip_yes                 0.00 -2.14   0.03       4.94\n",
       "wash_improved_percent        0.00  2.32   0.02       5.61\n",
       "---\n",
       "Concordance = 0.84\n",
       "Partial AIC = 771.06\n",
       "log-likelihood ratio test = 103.96 on 7 df\n",
       "-log2(p) of ll-ratio test = 62.40"
      ]
     },
     "metadata": {},
     "output_type": "display_data"
    }
   ],
   "source": [
    "# instaniate and fit the model and print model summary \n",
    "cox = CoxPHFitter(alpha = 0.05)\n",
    "cox.fit( df = df, duration_col = 'mda_round', event_col ='tf', formula =\"AV  + impact_survey_1_tf_1 + impact_survey_1_tf_2 + mda_delay + mda_skip_yes + latrine_improved_percent + wash_improved_percent\")\n",
    "cox.print_summary()"
   ]
  },
  {
   "cell_type": "code",
   "execution_count": 20,
   "id": "e47e66f3",
   "metadata": {},
   "outputs": [
    {
     "data": {
      "text/plain": [
       "344    11.0\n",
       "345     9.0\n",
       "346     9.0\n",
       "Name: 0.5, dtype: float64"
      ]
     },
     "execution_count": 20,
     "metadata": {},
     "output_type": "execute_result"
    }
   ],
   "source": [
    "f = df[df['region']=='Somali']\n",
    "cox.predict_median(f)\n"
   ]
  },
  {
   "cell_type": "markdown",
   "id": "adca2ac4",
   "metadata": {},
   "source": [
    "### P- Values and Statistical Significance\n",
    "As indicated above, the final model contains:average coverage, impact survey one result, latrine improved percentage, wash improved percentage, mda skip and mda delay. Covariates such as average coverage (0.02, 95% CI:0.00, 0.03), impact_survey_one_tf_result(10 to 29.9) (-1.22, 95% CI: -1.7, -0.74), impact_survey_one_tf_result(greator than 30) (-2.41,95% CI: -3.24,-1.58), latrine_improved_percent (0.02, 95% CI:0.00, 0.04), mda_delay(-0.55,95% CI:-1.02,-0.08),mda_skip_yes(-.49,95% CI: -.94,-0.04) and wash_improved_percent(0.02, 95% CI:0.00, 0.03) are all statistically significant at 5% level of significance."
   ]
  },
  {
   "cell_type": "markdown",
   "id": "644966ab",
   "metadata": {},
   "source": [
    "## coefficient interpretation"
   ]
  },
  {
   "cell_type": "markdown",
   "id": "10a5b82c",
   "metadata": {},
   "source": [
    "The coefficient associated with **average mda covarage**is posetive which indicates that increasing mda coverage result in decreasing trachoma prevalence at district level. To be more specific, a hazard ratio of 1.02 shows that the probability of districts tf prevalence to be below 5% increases by 1.9% for every one percent increases in mda coverage keeping all other covariates constant. "
   ]
  },
  {
   "cell_type": "markdown",
   "id": "adc9a4d1",
   "metadata": {},
   "source": [
    "The coefficient associated with **impact_survey_result( 10 - 29.9)** is negative which indicates that districts that recorded a tf value 10 to 29.9 at impact survey one has lower probalility to have current tf value less than 5% than districts that recorded 5 to 10 at impact survey one considering all other covariates constant. That is the probability of districts that recorded 10 to 29.9 in impact survey one to have current tf value less that 5 decreases by 244.8%. "
   ]
  },
  {
   "cell_type": "markdown",
   "id": "10ca071a",
   "metadata": {},
   "source": [
    "The coefficient associated with **impact_survey_result( greater than 30)** is negative which indicates that districts that recorded a tf value greater than 30 at impact survey one has lower probalility of having current tf value less than 5 than districts that recorded 5 to 10 at impact survey one considering all other covariates constant. That is the probability of districts that recorded greater than 30 in impact survey one to have current tf value less that 5 decreases by 1011%. "
   ]
  },
  {
   "cell_type": "markdown",
   "id": "241dbb81",
   "metadata": {},
   "source": [
    "The coefficient associated with **mda delay(yes)** is negative which indicates that districts that delay MDA at leat one year has lower probalility to have current tf value less than 5 than districts did not delay MDA keeping all other covariates constant. That is the probability of districts that delay MDA to have current tf value less than 5 decreases by 72%. "
   ]
  },
  {
   "cell_type": "markdown",
   "id": "e17835b3",
   "metadata": {},
   "source": [
    "The coefficient associated with **mda skip(yes)** is negative which indicates that districts that skip MDA at leat one year has lower probalility of having current tf value less than 5 than districts did not skip MDA keeping all other covariates constant. That is the probability of districts that skip MDA to have current tf value less that 5 decreases by 63%. "
   ]
  },
  {
   "cell_type": "markdown",
   "id": "0d3d5f97",
   "metadata": {},
   "source": [
    "The other covariates with hazard ratio greater than 1 is **latrine improved percent**. This is an indication that increasing latrine percentage for districts will decreases trachoma prevalence. To be more specific, a hazard ratio of 1.023 shows that the probability of districts to have a tf value less than 5 increases by 2 % for every one percent increases in latrine improved percentage keeping all other covariates constant. "
   ]
  },
  {
   "cell_type": "markdown",
   "id": "69757a51",
   "metadata": {},
   "source": [
    "**wash improved percent** has also hazard ratio greater than 1. Accordingly,increasing wash percentage is associated with decreasing trachoma prevalence. That is , a hazard ratio of 1.02 shows that the probability of districts to have a tf value less than 5 increases by 1.98 % for every one percent increases in wash improved percentage keeping all other covariates constant. "
   ]
  },
  {
   "cell_type": "code",
   "execution_count": 21,
   "id": "a3ebdcff",
   "metadata": {},
   "outputs": [
    {
     "data": {
      "text/plain": [
       "<AxesSubplot:xlabel='log(HR) (95% CI)'>"
      ]
     },
     "execution_count": 21,
     "metadata": {},
     "output_type": "execute_result"
    },
    {
     "data": {
      "image/png": "[encoded data removed]",
      "text/plain": [
       "<Figure size 432x288 with 1 Axes>"
      ]
     },
     "metadata": {
      "needs_background": "light"
     },
     "output_type": "display_data"
    }
   ],
   "source": [
    "# plotting the model\n",
    "cox.plot()"
   ]
  },
  {
   "cell_type": "code",
   "execution_count": 22,
   "id": "f972ddbd",
   "metadata": {},
   "outputs": [
    {
     "data": {
      "text/html": [
       "<div>\n",
       "<style scoped>\n",
       "    .dataframe tbody tr th:only-of-type {\n",
       "        vertical-align: middle;\n",
       "    }\n",
       "\n",
       "    .dataframe tbody tr th {\n",
       "        vertical-align: top;\n",
       "    }\n",
       "\n",
       "    .dataframe thead th {\n",
       "        text-align: right;\n",
       "    }\n",
       "</style>\n",
       "<table border=\"1\" class=\"dataframe\">\n",
       "  <tbody>\n",
       "    <tr>\n",
       "      <th>time_transform</th>\n",
       "      <td>rank</td>\n",
       "    </tr>\n",
       "    <tr>\n",
       "      <th>null_distribution</th>\n",
       "      <td>chi squared</td>\n",
       "    </tr>\n",
       "    <tr>\n",
       "      <th>degrees_of_freedom</th>\n",
       "      <td>1</td>\n",
       "    </tr>\n",
       "    <tr>\n",
       "      <th>model</th>\n",
       "      <td>&lt;lifelines.CoxPHFitter: fitted with 377 total ...</td>\n",
       "    </tr>\n",
       "    <tr>\n",
       "      <th>test_name</th>\n",
       "      <td>proportional_hazard_test</td>\n",
       "    </tr>\n",
       "  </tbody>\n",
       "</table>\n",
       "</div><table border=\"1\" class=\"dataframe\">\n",
       "  <thead>\n",
       "    <tr style=\"text-align: right;\">\n",
       "      <th></th>\n",
       "      <th>test_statistic</th>\n",
       "      <th>p</th>\n",
       "      <th>-log2(p)</th>\n",
       "    </tr>\n",
       "  </thead>\n",
       "  <tbody>\n",
       "    <tr>\n",
       "      <th>AV</th>\n",
       "      <td>0.19</td>\n",
       "      <td>0.66</td>\n",
       "      <td>0.60</td>\n",
       "    </tr>\n",
       "    <tr>\n",
       "      <th>impact_survey_1_tf_1</th>\n",
       "      <td>1.43</td>\n",
       "      <td>0.23</td>\n",
       "      <td>2.11</td>\n",
       "    </tr>\n",
       "    <tr>\n",
       "      <th>impact_survey_1_tf_2</th>\n",
       "      <td>1.49</td>\n",
       "      <td>0.22</td>\n",
       "      <td>2.17</td>\n",
       "    </tr>\n",
       "    <tr>\n",
       "      <th>latrine_improved_percent</th>\n",
       "      <td>0.43</td>\n",
       "      <td>0.51</td>\n",
       "      <td>0.97</td>\n",
       "    </tr>\n",
       "    <tr>\n",
       "      <th>mda_delay</th>\n",
       "      <td>2.67</td>\n",
       "      <td>0.10</td>\n",
       "      <td>3.29</td>\n",
       "    </tr>\n",
       "    <tr>\n",
       "      <th>mda_skip_yes</th>\n",
       "      <td>2.05</td>\n",
       "      <td>0.15</td>\n",
       "      <td>2.72</td>\n",
       "    </tr>\n",
       "    <tr>\n",
       "      <th>wash_improved_percent</th>\n",
       "      <td>0.36</td>\n",
       "      <td>0.55</td>\n",
       "      <td>0.86</td>\n",
       "    </tr>\n",
       "  </tbody>\n",
       "</table>"
      ],
      "text/latex": [
       "\\begin{tabular}{lrrr}\n",
       "\\toprule\n",
       "{} &  test\\_statistic &         p &  -log2(p) \\\\\n",
       "\\midrule\n",
       "AV                       &        0.192599 &  0.660763 &  0.597796 \\\\\n",
       "impact\\_survey\\_1\\_tf\\_1     &        1.426921 &  0.232268 &  2.106140 \\\\\n",
       "impact\\_survey\\_1\\_tf\\_2     &        1.490236 &  0.222180 &  2.170200 \\\\\n",
       "latrine\\_improved\\_percent &        0.434466 &  0.509806 &  0.971981 \\\\\n",
       "mda\\_delay                &        2.670636 &  0.102215 &  3.290319 \\\\\n",
       "mda\\_skip\\_yes             &        2.053726 &  0.151834 &  2.719431 \\\\\n",
       "wash\\_improved\\_percent    &        0.355152 &  0.551211 &  0.859324 \\\\\n",
       "\\bottomrule\n",
       "\\end{tabular}\n"
      ],
      "text/plain": [
       "<lifelines.StatisticalResult: proportional_hazard_test>\n",
       "    time_transform = rank\n",
       " null_distribution = chi squared\n",
       "degrees_of_freedom = 1\n",
       "             model = <lifelines.CoxPHFitter: fitted with 377 total observations, 293 right-censored observations>\n",
       "         test_name = proportional_hazard_test\n",
       "\n",
       "---\n",
       "                          test_statistic    p  -log2(p)\n",
       "AV                                  0.19 0.66      0.60\n",
       "impact_survey_1_tf_1                1.43 0.23      2.11\n",
       "impact_survey_1_tf_2                1.49 0.22      2.17\n",
       "latrine_improved_percent            0.43 0.51      0.97\n",
       "mda_delay                           2.67 0.10      3.29\n",
       "mda_skip_yes                        2.05 0.15      2.72\n",
       "wash_improved_percent               0.36 0.55      0.86"
      ]
     },
     "metadata": {},
     "output_type": "display_data"
    }
   ],
   "source": [
    "# The proportional hazard assumption\n",
    "import eli5\n",
    "from lifelines.statistics import proportional_hazard_test\n",
    "results = proportional_hazard_test(cox, df, time_transform='rank')\n",
    "results.print_summary(decimals=3, model=\"untransformed variables\")"
   ]
  },
  {
   "cell_type": "code",
   "execution_count": 23,
   "id": "79d906bb",
   "metadata": {},
   "outputs": [
    {
     "name": "stdout",
     "output_type": "stream",
     "text": [
      "Proportional hazard assumption looks okay.\n"
     ]
    },
    {
     "name": "stderr",
     "output_type": "stream",
     "text": [
      "C:\\Users\\AII\\anaconda3\\lib\\site-packages\\lifelines\\fitters\\mixins.py:108: FutureWarning: Index.__and__ operating as a set operation is deprecated, in the future this will be a logical operation matching Series.__and__.  Use index.intersection(other) instead\n",
      "  for variable in self.params_.index & (columns or self.params_.index):\n"
     ]
    },
    {
     "data": {
      "text/plain": [
       "[]"
      ]
     },
     "execution_count": 23,
     "metadata": {},
     "output_type": "execute_result"
    }
   ],
   "source": [
    "cox.check_assumptions(df,p_value_threshold=0.05,show_plots=True)"
   ]
  },
  {
   "cell_type": "markdown",
   "id": "462d300a",
   "metadata": {},
   "source": [
    "Incorporating variable(s) not satisfying the PH assumption leads to an inferior fit of a Cox model, that is, the power of test is reduced for both variables with constant and nonconstant HR in the model. The table above reveals the  values of the tests based on the scaled Schoenfeld residuals for nonproportional hazard assessment. The results of the test does not provide enough evidence of deviation from the proportionality assumption. This is because all of the  values for testing whether the correlation between Schoenfeld residual for these covariates and ranked survival time is not less than 0.05."
   ]
  },
  {
   "cell_type": "markdown",
   "id": "89d76bcc",
   "metadata": {},
   "source": [
    "### Partial effect of the covariate \n",
    "\n",
    "The following graph shows partial effect of the covariate **mda skip**. The median of mda round for those that did not skip mda is lower than of those who miss mda at least for one year. "
   ]
  },
  {
   "cell_type": "code",
   "execution_count": 24,
   "id": "0a72f10b",
   "metadata": {},
   "outputs": [
    {
     "data": {
      "text/plain": [
       "<AxesSubplot:>"
      ]
     },
     "execution_count": 24,
     "metadata": {},
     "output_type": "execute_result"
    },
    {
     "data": {
      "image/png": "[encoded data removed]",
      "text/plain": [
       "<Figure size 432x288 with 1 Axes>"
      ]
     },
     "metadata": {
      "needs_background": "light"
     },
     "output_type": "display_data"
    }
   ],
   "source": [
    "cox.plot_partial_effects_on_outcome(covariates = 'mda_skip_yes', values = [0], cmap = 'coolwarm')"
   ]
  },
  {
   "cell_type": "markdown",
   "id": "d91bd021",
   "metadata": {},
   "source": [
    "The following graph shows partial effect of latrine improved percentage at different values. That is the survival function for different valus of latrine improved keeping all other covariates constant.As indicated in the coefficient summary table, the increase in latrine improved percentage decrases the median mda round.  "
   ]
  },
  {
   "cell_type": "code",
   "execution_count": 25,
   "id": "c83a0b61",
   "metadata": {},
   "outputs": [
    {
     "data": {
      "text/plain": [
       "<AxesSubplot:>"
      ]
     },
     "execution_count": 25,
     "metadata": {},
     "output_type": "execute_result"
    },
    {
     "data": {
      "image/png": "[encoded data removed]",
      "text/plain": [
       "<Figure size 432x288 with 1 Axes>"
      ]
     },
     "metadata": {
      "needs_background": "light"
     },
     "output_type": "display_data"
    }
   ],
   "source": [
    "cox.plot_covariate_groups(covariates=['latrine_improved_percent'],values=[30,50,70,90])"
   ]
  },
  {
   "cell_type": "code",
   "execution_count": 26,
   "id": "c399a1e5",
   "metadata": {},
   "outputs": [
    {
     "data": {
      "text/plain": [
       "<AxesSubplot:>"
      ]
     },
     "execution_count": 26,
     "metadata": {},
     "output_type": "execute_result"
    },
    {
     "data": {
      "image/png": "[encoded data removed]",
      "text/plain": [
       "<Figure size 432x288 with 1 Axes>"
      ]
     },
     "metadata": {
      "needs_background": "light"
     },
     "output_type": "display_data"
    }
   ],
   "source": [
    "cox.plot_covariate_groups(covariates=['wash_improved_percent'],values=[30,50,70,90])"
   ]
  },
  {
   "cell_type": "markdown",
   "id": "07a6f3cd",
   "metadata": {},
   "source": [
    "The graph above shows partial effect of wash improved percentage at different values. That is the survival function for different values of wash improved keeping all other covariates constant.As indicated in the coefficient summary table, the graph also shows that increase in wash improved percentage decrases the median mda round. "
   ]
  },
  {
   "cell_type": "code",
   "execution_count": 27,
   "id": "84f68a7e",
   "metadata": {},
   "outputs": [
    {
     "data": {
      "text/plain": [
       "<AxesSubplot:>"
      ]
     },
     "execution_count": 27,
     "metadata": {},
     "output_type": "execute_result"
    },
    {
     "data": {
      "image/png": "[encoded data removed]",
      "text/plain": [
       "<Figure size 432x288 with 1 Axes>"
      ]
     },
     "metadata": {
      "needs_background": "light"
     },
     "output_type": "display_data"
    }
   ],
   "source": [
    "cox.plot_partial_effects_on_outcome(covariates=['latrine_improved_percent', 'wash_improved_percent'],\n",
    "    values=[[90, 90],], cmap='coolwarm')"
   ]
  },
  {
   "cell_type": "markdown",
   "id": "f64c6a6d",
   "metadata": {},
   "source": [
    "# The AFT model "
   ]
  },
  {
   "cell_type": "markdown",
   "id": "26e9be25",
   "metadata": {},
   "source": [
    "Although the Cox proportional-hazards (PH) model is the most employed technique in survival analysis because of its reduced set of assumptions about the baseline hazard function, formulation of the accelerated failure-time (AFT) model allows the derivation of a time ratio, which is more interpretable than a ratio of two hazards. The AFT model doesn’t require PH assumption which is seldom met assumption of the Cox PH model. It also encompasses relatively a wide range of survival time distributions and yields more powerful estimates than the Cox PH model, provided that method imposed assumptions satisfied.To select the best model for trachoma incidence, different AFT model based on distribution is performed "
   ]
  },
  {
   "cell_type": "markdown",
   "id": "ac7ec3ce",
   "metadata": {},
   "source": [
    "# Weibull AFT model "
   ]
  },
  {
   "cell_type": "code",
   "execution_count": 28,
   "id": "d3583f1b",
   "metadata": {},
   "outputs": [
    {
     "data": {
      "text/html": [
       "<div>\n",
       "<style scoped>\n",
       "    .dataframe tbody tr th:only-of-type {\n",
       "        vertical-align: middle;\n",
       "    }\n",
       "\n",
       "    .dataframe tbody tr th {\n",
       "        vertical-align: top;\n",
       "    }\n",
       "\n",
       "    .dataframe thead th {\n",
       "        text-align: right;\n",
       "    }\n",
       "</style>\n",
       "<table border=\"1\" class=\"dataframe\">\n",
       "  <tbody>\n",
       "    <tr>\n",
       "      <th>model</th>\n",
       "      <td>lifelines.WeibullAFTFitter</td>\n",
       "    </tr>\n",
       "    <tr>\n",
       "      <th>duration col</th>\n",
       "      <td>'mda_round'</td>\n",
       "    </tr>\n",
       "    <tr>\n",
       "      <th>event col</th>\n",
       "      <td>'tf'</td>\n",
       "    </tr>\n",
       "    <tr>\n",
       "      <th>number of observations</th>\n",
       "      <td>377</td>\n",
       "    </tr>\n",
       "    <tr>\n",
       "      <th>number of events observed</th>\n",
       "      <td>84</td>\n",
       "    </tr>\n",
       "    <tr>\n",
       "      <th>log-likelihood</th>\n",
       "      <td>-301.68</td>\n",
       "    </tr>\n",
       "    <tr>\n",
       "      <th>time fit was run</th>\n",
       "      <td>2022-08-02 13:36:51 UTC</td>\n",
       "    </tr>\n",
       "  </tbody>\n",
       "</table>\n",
       "</div><table border=\"1\" class=\"dataframe\">\n",
       "  <thead>\n",
       "    <tr style=\"text-align: right;\">\n",
       "      <th style=\"min-width: 12px;\"></th>\n",
       "      <th style=\"min-width: 12px;\"></th>\n",
       "      <th style=\"min-width: 12px;\">coef</th>\n",
       "      <th style=\"min-width: 12px;\">exp(coef)</th>\n",
       "      <th style=\"min-width: 12px;\">se(coef)</th>\n",
       "      <th style=\"min-width: 12px;\">coef lower 95%</th>\n",
       "      <th style=\"min-width: 12px;\">coef upper 95%</th>\n",
       "      <th style=\"min-width: 12px;\">exp(coef) lower 95%</th>\n",
       "      <th style=\"min-width: 12px;\">exp(coef) upper 95%</th>\n",
       "      <th style=\"min-width: 12px;\">cmp to</th>\n",
       "      <th style=\"min-width: 12px;\">z</th>\n",
       "      <th style=\"min-width: 12px;\">p</th>\n",
       "      <th style=\"min-width: 12px;\">-log2(p)</th>\n",
       "    </tr>\n",
       "  </thead>\n",
       "  <tbody>\n",
       "    <tr>\n",
       "      <th rowspan=\"8\" valign=\"top\">lambda_</th>\n",
       "      <th>Intercept</th>\n",
       "      <td>3.16</td>\n",
       "      <td>23.53</td>\n",
       "      <td>0.31</td>\n",
       "      <td>2.54</td>\n",
       "      <td>3.77</td>\n",
       "      <td>12.71</td>\n",
       "      <td>43.57</td>\n",
       "      <td>0.00</td>\n",
       "      <td>10.05</td>\n",
       "      <td>&lt;0.005</td>\n",
       "      <td>76.48</td>\n",
       "    </tr>\n",
       "    <tr>\n",
       "      <th>AV</th>\n",
       "      <td>-0.01</td>\n",
       "      <td>0.99</td>\n",
       "      <td>0.00</td>\n",
       "      <td>-0.01</td>\n",
       "      <td>-0.00</td>\n",
       "      <td>0.99</td>\n",
       "      <td>1.00</td>\n",
       "      <td>0.00</td>\n",
       "      <td>-2.04</td>\n",
       "      <td>0.04</td>\n",
       "      <td>4.61</td>\n",
       "    </tr>\n",
       "    <tr>\n",
       "      <th>impact_survey_1_tf_1</th>\n",
       "      <td>0.37</td>\n",
       "      <td>1.45</td>\n",
       "      <td>0.08</td>\n",
       "      <td>0.22</td>\n",
       "      <td>0.53</td>\n",
       "      <td>1.25</td>\n",
       "      <td>1.69</td>\n",
       "      <td>0.00</td>\n",
       "      <td>4.79</td>\n",
       "      <td>&lt;0.005</td>\n",
       "      <td>19.17</td>\n",
       "    </tr>\n",
       "    <tr>\n",
       "      <th>impact_survey_1_tf_2</th>\n",
       "      <td>0.74</td>\n",
       "      <td>2.10</td>\n",
       "      <td>0.14</td>\n",
       "      <td>0.47</td>\n",
       "      <td>1.01</td>\n",
       "      <td>1.60</td>\n",
       "      <td>2.75</td>\n",
       "      <td>0.00</td>\n",
       "      <td>5.39</td>\n",
       "      <td>&lt;0.005</td>\n",
       "      <td>23.80</td>\n",
       "    </tr>\n",
       "    <tr>\n",
       "      <th>latrine_improved_percent</th>\n",
       "      <td>-0.01</td>\n",
       "      <td>0.99</td>\n",
       "      <td>0.00</td>\n",
       "      <td>-0.01</td>\n",
       "      <td>-0.00</td>\n",
       "      <td>0.99</td>\n",
       "      <td>1.00</td>\n",
       "      <td>0.00</td>\n",
       "      <td>-2.16</td>\n",
       "      <td>0.03</td>\n",
       "      <td>5.02</td>\n",
       "    </tr>\n",
       "    <tr>\n",
       "      <th>mda_delay</th>\n",
       "      <td>0.17</td>\n",
       "      <td>1.18</td>\n",
       "      <td>0.07</td>\n",
       "      <td>0.03</td>\n",
       "      <td>0.31</td>\n",
       "      <td>1.03</td>\n",
       "      <td>1.36</td>\n",
       "      <td>0.00</td>\n",
       "      <td>2.34</td>\n",
       "      <td>0.02</td>\n",
       "      <td>5.71</td>\n",
       "    </tr>\n",
       "    <tr>\n",
       "      <th>mda_skip_yes</th>\n",
       "      <td>0.15</td>\n",
       "      <td>1.16</td>\n",
       "      <td>0.07</td>\n",
       "      <td>0.00</td>\n",
       "      <td>0.29</td>\n",
       "      <td>1.00</td>\n",
       "      <td>1.34</td>\n",
       "      <td>0.00</td>\n",
       "      <td>1.97</td>\n",
       "      <td>0.05</td>\n",
       "      <td>4.34</td>\n",
       "    </tr>\n",
       "    <tr>\n",
       "      <th>wash_improved_percent</th>\n",
       "      <td>-0.01</td>\n",
       "      <td>0.99</td>\n",
       "      <td>0.00</td>\n",
       "      <td>-0.01</td>\n",
       "      <td>-0.00</td>\n",
       "      <td>0.99</td>\n",
       "      <td>1.00</td>\n",
       "      <td>0.00</td>\n",
       "      <td>-2.19</td>\n",
       "      <td>0.03</td>\n",
       "      <td>5.15</td>\n",
       "    </tr>\n",
       "    <tr>\n",
       "      <th>rho_</th>\n",
       "      <th>Intercept</th>\n",
       "      <td>1.16</td>\n",
       "      <td>3.20</td>\n",
       "      <td>0.08</td>\n",
       "      <td>1.01</td>\n",
       "      <td>1.32</td>\n",
       "      <td>2.74</td>\n",
       "      <td>3.73</td>\n",
       "      <td>0.00</td>\n",
       "      <td>14.71</td>\n",
       "      <td>&lt;0.005</td>\n",
       "      <td>160.22</td>\n",
       "    </tr>\n",
       "  </tbody>\n",
       "</table><br><div>\n",
       "<style scoped>\n",
       "    .dataframe tbody tr th:only-of-type {\n",
       "        vertical-align: middle;\n",
       "    }\n",
       "\n",
       "    .dataframe tbody tr th {\n",
       "        vertical-align: top;\n",
       "    }\n",
       "\n",
       "    .dataframe thead th {\n",
       "        text-align: right;\n",
       "    }\n",
       "</style>\n",
       "<table border=\"1\" class=\"dataframe\">\n",
       "  <tbody>\n",
       "    <tr>\n",
       "      <th>Concordance</th>\n",
       "      <td>0.84</td>\n",
       "    </tr>\n",
       "    <tr>\n",
       "      <th>AIC</th>\n",
       "      <td>621.37</td>\n",
       "    </tr>\n",
       "    <tr>\n",
       "      <th>log-likelihood ratio test</th>\n",
       "      <td>102.32 on 7 df</td>\n",
       "    </tr>\n",
       "    <tr>\n",
       "      <th>-log2(p) of ll-ratio test</th>\n",
       "      <td>61.28</td>\n",
       "    </tr>\n",
       "  </tbody>\n",
       "</table>\n",
       "</div>"
      ],
      "text/latex": [
       "\\begin{tabular}{llrrrrrrrrrrr}\n",
       "\\toprule\n",
       "     &           &  coef &  exp(coef) &  se(coef) &  coef lower 95\\% &  coef upper 95\\% &  exp(coef) lower 95\\% &  exp(coef) upper 95\\% &  cmp to &     z &    p &  -log2(p) \\\\\n",
       "param & covariate &       &            &           &                 &                 &                      &                      &         &       &      &           \\\\\n",
       "\\midrule\n",
       "lambda\\_ & Intercept &  3.16 &      23.53 &      0.31 &            2.54 &            3.77 &                12.71 &                43.57 &    0.00 & 10.05 & 0.00 &     76.48 \\\\\n",
       "     & AV & -0.01 &       0.99 &      0.00 &           -0.01 &           -0.00 &                 0.99 &                 1.00 &    0.00 & -2.04 & 0.04 &      4.61 \\\\\n",
       "     & impact\\_survey\\_1\\_tf\\_1 &  0.37 &       1.45 &      0.08 &            0.22 &            0.53 &                 1.25 &                 1.69 &    0.00 &  4.79 & 0.00 &     19.17 \\\\\n",
       "     & impact\\_survey\\_1\\_tf\\_2 &  0.74 &       2.10 &      0.14 &            0.47 &            1.01 &                 1.60 &                 2.75 &    0.00 &  5.39 & 0.00 &     23.80 \\\\\n",
       "     & latrine\\_improved\\_percent & -0.01 &       0.99 &      0.00 &           -0.01 &           -0.00 &                 0.99 &                 1.00 &    0.00 & -2.16 & 0.03 &      5.02 \\\\\n",
       "     & mda\\_delay &  0.17 &       1.18 &      0.07 &            0.03 &            0.31 &                 1.03 &                 1.36 &    0.00 &  2.34 & 0.02 &      5.71 \\\\\n",
       "     & mda\\_skip\\_yes &  0.15 &       1.16 &      0.07 &            0.00 &            0.29 &                 1.00 &                 1.34 &    0.00 &  1.97 & 0.05 &      4.34 \\\\\n",
       "     & wash\\_improved\\_percent & -0.01 &       0.99 &      0.00 &           -0.01 &           -0.00 &                 0.99 &                 1.00 &    0.00 & -2.19 & 0.03 &      5.15 \\\\\n",
       "rho\\_ & Intercept &  1.16 &       3.20 &      0.08 &            1.01 &            1.32 &                 2.74 &                 3.73 &    0.00 & 14.71 & 0.00 &    160.22 \\\\\n",
       "\\bottomrule\n",
       "\\end{tabular}\n"
      ],
      "text/plain": [
       "<lifelines.WeibullAFTFitter: fitted with 377 total observations, 293 right-censored observations>\n",
       "             duration col = 'mda_round'\n",
       "                event col = 'tf'\n",
       "   number of observations = 377\n",
       "number of events observed = 84\n",
       "           log-likelihood = -301.68\n",
       "         time fit was run = 2022-08-02 13:36:51 UTC\n",
       "\n",
       "---\n",
       "                                   coef  exp(coef)   se(coef)   coef lower 95%   coef upper 95%  exp(coef) lower 95%  exp(coef) upper 95%\n",
       "param   covariate                                                                                                                        \n",
       "lambda_ Intercept                  3.16      23.53       0.31             2.54             3.77                12.71                43.57\n",
       "        AV                        -0.01       0.99       0.00            -0.01            -0.00                 0.99                 1.00\n",
       "        impact_survey_1_tf_1       0.37       1.45       0.08             0.22             0.53                 1.25                 1.69\n",
       "        impact_survey_1_tf_2       0.74       2.10       0.14             0.47             1.01                 1.60                 2.75\n",
       "        latrine_improved_percent  -0.01       0.99       0.00            -0.01            -0.00                 0.99                 1.00\n",
       "        mda_delay                  0.17       1.18       0.07             0.03             0.31                 1.03                 1.36\n",
       "        mda_skip_yes               0.15       1.16       0.07             0.00             0.29                 1.00                 1.34\n",
       "        wash_improved_percent     -0.01       0.99       0.00            -0.01            -0.00                 0.99                 1.00\n",
       "rho_    Intercept                  1.16       3.20       0.08             1.01             1.32                 2.74                 3.73\n",
       "\n",
       "                                   cmp to     z      p   -log2(p)\n",
       "param   covariate                                                \n",
       "lambda_ Intercept                    0.00 10.05 <0.005      76.48\n",
       "        AV                           0.00 -2.04   0.04       4.61\n",
       "        impact_survey_1_tf_1         0.00  4.79 <0.005      19.17\n",
       "        impact_survey_1_tf_2         0.00  5.39 <0.005      23.80\n",
       "        latrine_improved_percent     0.00 -2.16   0.03       5.02\n",
       "        mda_delay                    0.00  2.34   0.02       5.71\n",
       "        mda_skip_yes                 0.00  1.97   0.05       4.34\n",
       "        wash_improved_percent        0.00 -2.19   0.03       5.15\n",
       "rho_    Intercept                    0.00 14.71 <0.005     160.22\n",
       "---\n",
       "Concordance = 0.84\n",
       "AIC = 621.37\n",
       "log-likelihood ratio test = 102.32 on 7 df\n",
       "-log2(p) of ll-ratio test = 61.28"
      ]
     },
     "metadata": {},
     "output_type": "display_data"
    },
    {
     "name": "stdout",
     "output_type": "stream",
     "text": [
      "None\n"
     ]
    }
   ],
   "source": [
    "wf = WeibullAFTFitter().fit( df = df, duration_col = 'mda_round', event_col ='tf', formula =\"AV + impact_survey_1_tf_1 + impact_survey_1_tf_2 + mda_delay + mda_skip_yes + latrine_improved_percent + wash_improved_percent\")\n",
    "print(wf.print_summary())"
   ]
  },
  {
   "cell_type": "markdown",
   "id": "28a4345d",
   "metadata": {},
   "source": [
    "# The log logistic AFT model"
   ]
  },
  {
   "cell_type": "code",
   "execution_count": 29,
   "id": "b90f563a",
   "metadata": {},
   "outputs": [
    {
     "data": {
      "text/html": [
       "<div>\n",
       "<style scoped>\n",
       "    .dataframe tbody tr th:only-of-type {\n",
       "        vertical-align: middle;\n",
       "    }\n",
       "\n",
       "    .dataframe tbody tr th {\n",
       "        vertical-align: top;\n",
       "    }\n",
       "\n",
       "    .dataframe thead th {\n",
       "        text-align: right;\n",
       "    }\n",
       "</style>\n",
       "<table border=\"1\" class=\"dataframe\">\n",
       "  <tbody>\n",
       "    <tr>\n",
       "      <th>model</th>\n",
       "      <td>lifelines.LogLogisticAFTFitter</td>\n",
       "    </tr>\n",
       "    <tr>\n",
       "      <th>duration col</th>\n",
       "      <td>'mda_round'</td>\n",
       "    </tr>\n",
       "    <tr>\n",
       "      <th>event col</th>\n",
       "      <td>'tf'</td>\n",
       "    </tr>\n",
       "    <tr>\n",
       "      <th>number of observations</th>\n",
       "      <td>377</td>\n",
       "    </tr>\n",
       "    <tr>\n",
       "      <th>number of events observed</th>\n",
       "      <td>84</td>\n",
       "    </tr>\n",
       "    <tr>\n",
       "      <th>log-likelihood</th>\n",
       "      <td>-298.99</td>\n",
       "    </tr>\n",
       "    <tr>\n",
       "      <th>time fit was run</th>\n",
       "      <td>2022-08-02 13:36:51 UTC</td>\n",
       "    </tr>\n",
       "  </tbody>\n",
       "</table>\n",
       "</div><table border=\"1\" class=\"dataframe\">\n",
       "  <thead>\n",
       "    <tr style=\"text-align: right;\">\n",
       "      <th style=\"min-width: 12px;\"></th>\n",
       "      <th style=\"min-width: 12px;\"></th>\n",
       "      <th style=\"min-width: 12px;\">coef</th>\n",
       "      <th style=\"min-width: 12px;\">exp(coef)</th>\n",
       "      <th style=\"min-width: 12px;\">se(coef)</th>\n",
       "      <th style=\"min-width: 12px;\">coef lower 95%</th>\n",
       "      <th style=\"min-width: 12px;\">coef upper 95%</th>\n",
       "      <th style=\"min-width: 12px;\">exp(coef) lower 95%</th>\n",
       "      <th style=\"min-width: 12px;\">exp(coef) upper 95%</th>\n",
       "      <th style=\"min-width: 12px;\">cmp to</th>\n",
       "      <th style=\"min-width: 12px;\">z</th>\n",
       "      <th style=\"min-width: 12px;\">p</th>\n",
       "      <th style=\"min-width: 12px;\">-log2(p)</th>\n",
       "    </tr>\n",
       "  </thead>\n",
       "  <tbody>\n",
       "    <tr>\n",
       "      <th rowspan=\"8\" valign=\"top\">alpha_</th>\n",
       "      <th>Intercept</th>\n",
       "      <td>2.98</td>\n",
       "      <td>19.63</td>\n",
       "      <td>0.29</td>\n",
       "      <td>2.41</td>\n",
       "      <td>3.55</td>\n",
       "      <td>11.10</td>\n",
       "      <td>34.72</td>\n",
       "      <td>0.00</td>\n",
       "      <td>10.24</td>\n",
       "      <td>&lt;0.005</td>\n",
       "      <td>79.28</td>\n",
       "    </tr>\n",
       "    <tr>\n",
       "      <th>AV</th>\n",
       "      <td>-0.01</td>\n",
       "      <td>0.99</td>\n",
       "      <td>0.00</td>\n",
       "      <td>-0.01</td>\n",
       "      <td>-0.00</td>\n",
       "      <td>0.99</td>\n",
       "      <td>1.00</td>\n",
       "      <td>0.00</td>\n",
       "      <td>-2.60</td>\n",
       "      <td>0.01</td>\n",
       "      <td>6.75</td>\n",
       "    </tr>\n",
       "    <tr>\n",
       "      <th>impact_survey_1_tf_1</th>\n",
       "      <td>0.44</td>\n",
       "      <td>1.55</td>\n",
       "      <td>0.08</td>\n",
       "      <td>0.29</td>\n",
       "      <td>0.59</td>\n",
       "      <td>1.34</td>\n",
       "      <td>1.80</td>\n",
       "      <td>0.00</td>\n",
       "      <td>5.80</td>\n",
       "      <td>&lt;0.005</td>\n",
       "      <td>27.14</td>\n",
       "    </tr>\n",
       "    <tr>\n",
       "      <th>impact_survey_1_tf_2</th>\n",
       "      <td>0.78</td>\n",
       "      <td>2.19</td>\n",
       "      <td>0.12</td>\n",
       "      <td>0.55</td>\n",
       "      <td>1.02</td>\n",
       "      <td>1.73</td>\n",
       "      <td>2.78</td>\n",
       "      <td>0.00</td>\n",
       "      <td>6.45</td>\n",
       "      <td>&lt;0.005</td>\n",
       "      <td>33.06</td>\n",
       "    </tr>\n",
       "    <tr>\n",
       "      <th>latrine_improved_percent</th>\n",
       "      <td>-0.01</td>\n",
       "      <td>0.99</td>\n",
       "      <td>0.00</td>\n",
       "      <td>-0.01</td>\n",
       "      <td>0.00</td>\n",
       "      <td>0.99</td>\n",
       "      <td>1.00</td>\n",
       "      <td>0.00</td>\n",
       "      <td>-1.79</td>\n",
       "      <td>0.07</td>\n",
       "      <td>3.78</td>\n",
       "    </tr>\n",
       "    <tr>\n",
       "      <th>mda_delay</th>\n",
       "      <td>0.22</td>\n",
       "      <td>1.25</td>\n",
       "      <td>0.07</td>\n",
       "      <td>0.08</td>\n",
       "      <td>0.36</td>\n",
       "      <td>1.08</td>\n",
       "      <td>1.44</td>\n",
       "      <td>0.00</td>\n",
       "      <td>3.09</td>\n",
       "      <td>&lt;0.005</td>\n",
       "      <td>8.94</td>\n",
       "    </tr>\n",
       "    <tr>\n",
       "      <th>mda_skip_yes</th>\n",
       "      <td>0.17</td>\n",
       "      <td>1.19</td>\n",
       "      <td>0.07</td>\n",
       "      <td>0.03</td>\n",
       "      <td>0.31</td>\n",
       "      <td>1.03</td>\n",
       "      <td>1.36</td>\n",
       "      <td>0.00</td>\n",
       "      <td>2.41</td>\n",
       "      <td>0.02</td>\n",
       "      <td>5.99</td>\n",
       "    </tr>\n",
       "    <tr>\n",
       "      <th>wash_improved_percent</th>\n",
       "      <td>-0.01</td>\n",
       "      <td>0.99</td>\n",
       "      <td>0.00</td>\n",
       "      <td>-0.01</td>\n",
       "      <td>-0.00</td>\n",
       "      <td>0.99</td>\n",
       "      <td>1.00</td>\n",
       "      <td>0.00</td>\n",
       "      <td>-2.34</td>\n",
       "      <td>0.02</td>\n",
       "      <td>5.71</td>\n",
       "    </tr>\n",
       "    <tr>\n",
       "      <th>beta_</th>\n",
       "      <th>Intercept</th>\n",
       "      <td>1.42</td>\n",
       "      <td>4.14</td>\n",
       "      <td>0.09</td>\n",
       "      <td>1.25</td>\n",
       "      <td>1.59</td>\n",
       "      <td>3.50</td>\n",
       "      <td>4.90</td>\n",
       "      <td>0.00</td>\n",
       "      <td>16.54</td>\n",
       "      <td>&lt;0.005</td>\n",
       "      <td>201.68</td>\n",
       "    </tr>\n",
       "  </tbody>\n",
       "</table><br><div>\n",
       "<style scoped>\n",
       "    .dataframe tbody tr th:only-of-type {\n",
       "        vertical-align: middle;\n",
       "    }\n",
       "\n",
       "    .dataframe tbody tr th {\n",
       "        vertical-align: top;\n",
       "    }\n",
       "\n",
       "    .dataframe thead th {\n",
       "        text-align: right;\n",
       "    }\n",
       "</style>\n",
       "<table border=\"1\" class=\"dataframe\">\n",
       "  <tbody>\n",
       "    <tr>\n",
       "      <th>Concordance</th>\n",
       "      <td>0.84</td>\n",
       "    </tr>\n",
       "    <tr>\n",
       "      <th>AIC</th>\n",
       "      <td>615.97</td>\n",
       "    </tr>\n",
       "    <tr>\n",
       "      <th>log-likelihood ratio test</th>\n",
       "      <td>107.36 on 7 df</td>\n",
       "    </tr>\n",
       "    <tr>\n",
       "      <th>-log2(p) of ll-ratio test</th>\n",
       "      <td>64.74</td>\n",
       "    </tr>\n",
       "  </tbody>\n",
       "</table>\n",
       "</div>"
      ],
      "text/latex": [
       "\\begin{tabular}{llrrrrrrrrrrr}\n",
       "\\toprule\n",
       "      &           &  coef &  exp(coef) &  se(coef) &  coef lower 95\\% &  coef upper 95\\% &  exp(coef) lower 95\\% &  exp(coef) upper 95\\% &  cmp to &     z &    p &  -log2(p) \\\\\n",
       "param & covariate &       &            &           &                 &                 &                      &                      &         &       &      &           \\\\\n",
       "\\midrule\n",
       "alpha\\_ & Intercept &  2.98 &      19.63 &      0.29 &            2.41 &            3.55 &                11.10 &                34.72 &    0.00 & 10.24 & 0.00 &     79.28 \\\\\n",
       "      & AV & -0.01 &       0.99 &      0.00 &           -0.01 &           -0.00 &                 0.99 &                 1.00 &    0.00 & -2.60 & 0.01 &      6.75 \\\\\n",
       "      & impact\\_survey\\_1\\_tf\\_1 &  0.44 &       1.55 &      0.08 &            0.29 &            0.59 &                 1.34 &                 1.80 &    0.00 &  5.80 & 0.00 &     27.14 \\\\\n",
       "      & impact\\_survey\\_1\\_tf\\_2 &  0.78 &       2.19 &      0.12 &            0.55 &            1.02 &                 1.73 &                 2.78 &    0.00 &  6.45 & 0.00 &     33.06 \\\\\n",
       "      & latrine\\_improved\\_percent & -0.01 &       0.99 &      0.00 &           -0.01 &            0.00 &                 0.99 &                 1.00 &    0.00 & -1.79 & 0.07 &      3.78 \\\\\n",
       "      & mda\\_delay &  0.22 &       1.25 &      0.07 &            0.08 &            0.36 &                 1.08 &                 1.44 &    0.00 &  3.09 & 0.00 &      8.94 \\\\\n",
       "      & mda\\_skip\\_yes &  0.17 &       1.19 &      0.07 &            0.03 &            0.31 &                 1.03 &                 1.36 &    0.00 &  2.41 & 0.02 &      5.99 \\\\\n",
       "      & wash\\_improved\\_percent & -0.01 &       0.99 &      0.00 &           -0.01 &           -0.00 &                 0.99 &                 1.00 &    0.00 & -2.34 & 0.02 &      5.71 \\\\\n",
       "beta\\_ & Intercept &  1.42 &       4.14 &      0.09 &            1.25 &            1.59 &                 3.50 &                 4.90 &    0.00 & 16.54 & 0.00 &    201.68 \\\\\n",
       "\\bottomrule\n",
       "\\end{tabular}\n"
      ],
      "text/plain": [
       "<lifelines.LogLogisticAFTFitter: fitted with 377 total observations, 293 right-censored observations>\n",
       "             duration col = 'mda_round'\n",
       "                event col = 'tf'\n",
       "   number of observations = 377\n",
       "number of events observed = 84\n",
       "           log-likelihood = -298.99\n",
       "         time fit was run = 2022-08-02 13:36:51 UTC\n",
       "\n",
       "---\n",
       "                                  coef  exp(coef)   se(coef)   coef lower 95%   coef upper 95%  exp(coef) lower 95%  exp(coef) upper 95%\n",
       "param  covariate                                                                                                                        \n",
       "alpha_ Intercept                  2.98      19.63       0.29             2.41             3.55                11.10                34.72\n",
       "       AV                        -0.01       0.99       0.00            -0.01            -0.00                 0.99                 1.00\n",
       "       impact_survey_1_tf_1       0.44       1.55       0.08             0.29             0.59                 1.34                 1.80\n",
       "       impact_survey_1_tf_2       0.78       2.19       0.12             0.55             1.02                 1.73                 2.78\n",
       "       latrine_improved_percent  -0.01       0.99       0.00            -0.01             0.00                 0.99                 1.00\n",
       "       mda_delay                  0.22       1.25       0.07             0.08             0.36                 1.08                 1.44\n",
       "       mda_skip_yes               0.17       1.19       0.07             0.03             0.31                 1.03                 1.36\n",
       "       wash_improved_percent     -0.01       0.99       0.00            -0.01            -0.00                 0.99                 1.00\n",
       "beta_  Intercept                  1.42       4.14       0.09             1.25             1.59                 3.50                 4.90\n",
       "\n",
       "                                  cmp to     z      p   -log2(p)\n",
       "param  covariate                                                \n",
       "alpha_ Intercept                    0.00 10.24 <0.005      79.28\n",
       "       AV                           0.00 -2.60   0.01       6.75\n",
       "       impact_survey_1_tf_1         0.00  5.80 <0.005      27.14\n",
       "       impact_survey_1_tf_2         0.00  6.45 <0.005      33.06\n",
       "       latrine_improved_percent     0.00 -1.79   0.07       3.78\n",
       "       mda_delay                    0.00  3.09 <0.005       8.94\n",
       "       mda_skip_yes                 0.00  2.41   0.02       5.99\n",
       "       wash_improved_percent        0.00 -2.34   0.02       5.71\n",
       "beta_  Intercept                    0.00 16.54 <0.005     201.68\n",
       "---\n",
       "Concordance = 0.84\n",
       "AIC = 615.97\n",
       "log-likelihood ratio test = 107.36 on 7 df\n",
       "-log2(p) of ll-ratio test = 64.74"
      ]
     },
     "metadata": {},
     "output_type": "display_data"
    }
   ],
   "source": [
    "llf = LogLogisticAFTFitter().fit( df = df, duration_col = 'mda_round', event_col ='tf', formula =\"AV + impact_survey_1_tf_1 + impact_survey_1_tf_2 + mda_delay + mda_skip_yes + latrine_improved_percent + wash_improved_percent\")\n",
    "llf.print_summary()"
   ]
  },
  {
   "cell_type": "code",
   "execution_count": 30,
   "id": "d4c23eae",
   "metadata": {},
   "outputs": [
    {
     "name": "stdout",
     "output_type": "stream",
     "text": [
      "Median Survival Time:10414.65\n"
     ]
    }
   ],
   "source": [
    "print(\"Median Survival Time:{:.2f}\".format(np.exp(llf.median_survival_time_)))"
   ]
  },
  {
   "cell_type": "markdown",
   "id": "55f97536",
   "metadata": {},
   "source": [
    "# The Log Normal AFT model "
   ]
  },
  {
   "cell_type": "code",
   "execution_count": 31,
   "id": "2f90c2ad",
   "metadata": {},
   "outputs": [
    {
     "data": {
      "text/html": [
       "<div>\n",
       "<style scoped>\n",
       "    .dataframe tbody tr th:only-of-type {\n",
       "        vertical-align: middle;\n",
       "    }\n",
       "\n",
       "    .dataframe tbody tr th {\n",
       "        vertical-align: top;\n",
       "    }\n",
       "\n",
       "    .dataframe thead th {\n",
       "        text-align: right;\n",
       "    }\n",
       "</style>\n",
       "<table border=\"1\" class=\"dataframe\">\n",
       "  <tbody>\n",
       "    <tr>\n",
       "      <th>model</th>\n",
       "      <td>lifelines.LogNormalAFTFitter</td>\n",
       "    </tr>\n",
       "    <tr>\n",
       "      <th>duration col</th>\n",
       "      <td>'mda_round'</td>\n",
       "    </tr>\n",
       "    <tr>\n",
       "      <th>event col</th>\n",
       "      <td>'tf'</td>\n",
       "    </tr>\n",
       "    <tr>\n",
       "      <th>number of observations</th>\n",
       "      <td>377</td>\n",
       "    </tr>\n",
       "    <tr>\n",
       "      <th>number of events observed</th>\n",
       "      <td>84</td>\n",
       "    </tr>\n",
       "    <tr>\n",
       "      <th>log-likelihood</th>\n",
       "      <td>-302.31</td>\n",
       "    </tr>\n",
       "    <tr>\n",
       "      <th>time fit was run</th>\n",
       "      <td>2022-08-02 13:36:52 UTC</td>\n",
       "    </tr>\n",
       "  </tbody>\n",
       "</table>\n",
       "</div><table border=\"1\" class=\"dataframe\">\n",
       "  <thead>\n",
       "    <tr style=\"text-align: right;\">\n",
       "      <th style=\"min-width: 12px;\"></th>\n",
       "      <th style=\"min-width: 12px;\"></th>\n",
       "      <th style=\"min-width: 12px;\">coef</th>\n",
       "      <th style=\"min-width: 12px;\">exp(coef)</th>\n",
       "      <th style=\"min-width: 12px;\">se(coef)</th>\n",
       "      <th style=\"min-width: 12px;\">coef lower 95%</th>\n",
       "      <th style=\"min-width: 12px;\">coef upper 95%</th>\n",
       "      <th style=\"min-width: 12px;\">exp(coef) lower 95%</th>\n",
       "      <th style=\"min-width: 12px;\">exp(coef) upper 95%</th>\n",
       "      <th style=\"min-width: 12px;\">cmp to</th>\n",
       "      <th style=\"min-width: 12px;\">z</th>\n",
       "      <th style=\"min-width: 12px;\">p</th>\n",
       "      <th style=\"min-width: 12px;\">-log2(p)</th>\n",
       "    </tr>\n",
       "  </thead>\n",
       "  <tbody>\n",
       "    <tr>\n",
       "      <th rowspan=\"8\" valign=\"top\">mu_</th>\n",
       "      <th>Intercept</th>\n",
       "      <td>2.85</td>\n",
       "      <td>17.31</td>\n",
       "      <td>0.27</td>\n",
       "      <td>2.32</td>\n",
       "      <td>3.38</td>\n",
       "      <td>10.16</td>\n",
       "      <td>29.50</td>\n",
       "      <td>0.00</td>\n",
       "      <td>10.48</td>\n",
       "      <td>&lt;0.005</td>\n",
       "      <td>82.98</td>\n",
       "    </tr>\n",
       "    <tr>\n",
       "      <th>AV</th>\n",
       "      <td>-0.01</td>\n",
       "      <td>0.99</td>\n",
       "      <td>0.00</td>\n",
       "      <td>-0.01</td>\n",
       "      <td>-0.00</td>\n",
       "      <td>0.99</td>\n",
       "      <td>1.00</td>\n",
       "      <td>0.00</td>\n",
       "      <td>-2.28</td>\n",
       "      <td>0.02</td>\n",
       "      <td>5.47</td>\n",
       "    </tr>\n",
       "    <tr>\n",
       "      <th>impact_survey_1_tf_1</th>\n",
       "      <td>0.50</td>\n",
       "      <td>1.64</td>\n",
       "      <td>0.08</td>\n",
       "      <td>0.34</td>\n",
       "      <td>0.66</td>\n",
       "      <td>1.40</td>\n",
       "      <td>1.93</td>\n",
       "      <td>0.00</td>\n",
       "      <td>6.09</td>\n",
       "      <td>&lt;0.005</td>\n",
       "      <td>29.70</td>\n",
       "    </tr>\n",
       "    <tr>\n",
       "      <th>impact_survey_1_tf_2</th>\n",
       "      <td>0.82</td>\n",
       "      <td>2.27</td>\n",
       "      <td>0.12</td>\n",
       "      <td>0.58</td>\n",
       "      <td>1.06</td>\n",
       "      <td>1.79</td>\n",
       "      <td>2.88</td>\n",
       "      <td>0.00</td>\n",
       "      <td>6.72</td>\n",
       "      <td>&lt;0.005</td>\n",
       "      <td>35.64</td>\n",
       "    </tr>\n",
       "    <tr>\n",
       "      <th>latrine_improved_percent</th>\n",
       "      <td>-0.01</td>\n",
       "      <td>0.99</td>\n",
       "      <td>0.00</td>\n",
       "      <td>-0.01</td>\n",
       "      <td>0.00</td>\n",
       "      <td>0.99</td>\n",
       "      <td>1.00</td>\n",
       "      <td>0.00</td>\n",
       "      <td>-1.60</td>\n",
       "      <td>0.11</td>\n",
       "      <td>3.19</td>\n",
       "    </tr>\n",
       "    <tr>\n",
       "      <th>mda_delay</th>\n",
       "      <td>0.24</td>\n",
       "      <td>1.27</td>\n",
       "      <td>0.08</td>\n",
       "      <td>0.08</td>\n",
       "      <td>0.39</td>\n",
       "      <td>1.09</td>\n",
       "      <td>1.48</td>\n",
       "      <td>0.00</td>\n",
       "      <td>3.03</td>\n",
       "      <td>&lt;0.005</td>\n",
       "      <td>8.68</td>\n",
       "    </tr>\n",
       "    <tr>\n",
       "      <th>mda_skip_yes</th>\n",
       "      <td>0.23</td>\n",
       "      <td>1.25</td>\n",
       "      <td>0.08</td>\n",
       "      <td>0.08</td>\n",
       "      <td>0.37</td>\n",
       "      <td>1.08</td>\n",
       "      <td>1.45</td>\n",
       "      <td>0.00</td>\n",
       "      <td>2.99</td>\n",
       "      <td>&lt;0.005</td>\n",
       "      <td>8.49</td>\n",
       "    </tr>\n",
       "    <tr>\n",
       "      <th>wash_improved_percent</th>\n",
       "      <td>-0.01</td>\n",
       "      <td>0.99</td>\n",
       "      <td>0.00</td>\n",
       "      <td>-0.01</td>\n",
       "      <td>-0.00</td>\n",
       "      <td>0.99</td>\n",
       "      <td>1.00</td>\n",
       "      <td>0.00</td>\n",
       "      <td>-2.34</td>\n",
       "      <td>0.02</td>\n",
       "      <td>5.69</td>\n",
       "    </tr>\n",
       "    <tr>\n",
       "      <th>sigma_</th>\n",
       "      <th>Intercept</th>\n",
       "      <td>-0.75</td>\n",
       "      <td>0.47</td>\n",
       "      <td>0.08</td>\n",
       "      <td>-0.90</td>\n",
       "      <td>-0.60</td>\n",
       "      <td>0.40</td>\n",
       "      <td>0.55</td>\n",
       "      <td>0.00</td>\n",
       "      <td>-9.84</td>\n",
       "      <td>&lt;0.005</td>\n",
       "      <td>73.50</td>\n",
       "    </tr>\n",
       "  </tbody>\n",
       "</table><br><div>\n",
       "<style scoped>\n",
       "    .dataframe tbody tr th:only-of-type {\n",
       "        vertical-align: middle;\n",
       "    }\n",
       "\n",
       "    .dataframe tbody tr th {\n",
       "        vertical-align: top;\n",
       "    }\n",
       "\n",
       "    .dataframe thead th {\n",
       "        text-align: right;\n",
       "    }\n",
       "</style>\n",
       "<table border=\"1\" class=\"dataframe\">\n",
       "  <tbody>\n",
       "    <tr>\n",
       "      <th>Concordance</th>\n",
       "      <td>0.83</td>\n",
       "    </tr>\n",
       "    <tr>\n",
       "      <th>AIC</th>\n",
       "      <td>622.61</td>\n",
       "    </tr>\n",
       "    <tr>\n",
       "      <th>log-likelihood ratio test</th>\n",
       "      <td>109.13 on 7 df</td>\n",
       "    </tr>\n",
       "    <tr>\n",
       "      <th>-log2(p) of ll-ratio test</th>\n",
       "      <td>65.96</td>\n",
       "    </tr>\n",
       "  </tbody>\n",
       "</table>\n",
       "</div>"
      ],
      "text/latex": [
       "\\begin{tabular}{llrrrrrrrrrrr}\n",
       "\\toprule\n",
       "       &           &  coef &  exp(coef) &  se(coef) &  coef lower 95\\% &  coef upper 95\\% &  exp(coef) lower 95\\% &  exp(coef) upper 95\\% &  cmp to &     z &    p &  -log2(p) \\\\\n",
       "param & covariate &       &            &           &                 &                 &                      &                      &         &       &      &           \\\\\n",
       "\\midrule\n",
       "mu\\_ & Intercept &  2.85 &      17.31 &      0.27 &            2.32 &            3.38 &                10.16 &                29.50 &    0.00 & 10.48 & 0.00 &     82.98 \\\\\n",
       "       & AV & -0.01 &       0.99 &      0.00 &           -0.01 &           -0.00 &                 0.99 &                 1.00 &    0.00 & -2.28 & 0.02 &      5.47 \\\\\n",
       "       & impact\\_survey\\_1\\_tf\\_1 &  0.50 &       1.64 &      0.08 &            0.34 &            0.66 &                 1.40 &                 1.93 &    0.00 &  6.09 & 0.00 &     29.70 \\\\\n",
       "       & impact\\_survey\\_1\\_tf\\_2 &  0.82 &       2.27 &      0.12 &            0.58 &            1.06 &                 1.79 &                 2.88 &    0.00 &  6.72 & 0.00 &     35.64 \\\\\n",
       "       & latrine\\_improved\\_percent & -0.01 &       0.99 &      0.00 &           -0.01 &            0.00 &                 0.99 &                 1.00 &    0.00 & -1.60 & 0.11 &      3.19 \\\\\n",
       "       & mda\\_delay &  0.24 &       1.27 &      0.08 &            0.08 &            0.39 &                 1.09 &                 1.48 &    0.00 &  3.03 & 0.00 &      8.68 \\\\\n",
       "       & mda\\_skip\\_yes &  0.23 &       1.25 &      0.08 &            0.08 &            0.37 &                 1.08 &                 1.45 &    0.00 &  2.99 & 0.00 &      8.49 \\\\\n",
       "       & wash\\_improved\\_percent & -0.01 &       0.99 &      0.00 &           -0.01 &           -0.00 &                 0.99 &                 1.00 &    0.00 & -2.34 & 0.02 &      5.69 \\\\\n",
       "sigma\\_ & Intercept & -0.75 &       0.47 &      0.08 &           -0.90 &           -0.60 &                 0.40 &                 0.55 &    0.00 & -9.84 & 0.00 &     73.50 \\\\\n",
       "\\bottomrule\n",
       "\\end{tabular}\n"
      ],
      "text/plain": [
       "<lifelines.LogNormalAFTFitter: fitted with 377 total observations, 293 right-censored observations>\n",
       "             duration col = 'mda_round'\n",
       "                event col = 'tf'\n",
       "   number of observations = 377\n",
       "number of events observed = 84\n",
       "           log-likelihood = -302.31\n",
       "         time fit was run = 2022-08-02 13:36:52 UTC\n",
       "\n",
       "---\n",
       "                                  coef  exp(coef)   se(coef)   coef lower 95%   coef upper 95%  exp(coef) lower 95%  exp(coef) upper 95%\n",
       "param  covariate                                                                                                                        \n",
       "mu_    Intercept                  2.85      17.31       0.27             2.32             3.38                10.16                29.50\n",
       "       AV                        -0.01       0.99       0.00            -0.01            -0.00                 0.99                 1.00\n",
       "       impact_survey_1_tf_1       0.50       1.64       0.08             0.34             0.66                 1.40                 1.93\n",
       "       impact_survey_1_tf_2       0.82       2.27       0.12             0.58             1.06                 1.79                 2.88\n",
       "       latrine_improved_percent  -0.01       0.99       0.00            -0.01             0.00                 0.99                 1.00\n",
       "       mda_delay                  0.24       1.27       0.08             0.08             0.39                 1.09                 1.48\n",
       "       mda_skip_yes               0.23       1.25       0.08             0.08             0.37                 1.08                 1.45\n",
       "       wash_improved_percent     -0.01       0.99       0.00            -0.01            -0.00                 0.99                 1.00\n",
       "sigma_ Intercept                 -0.75       0.47       0.08            -0.90            -0.60                 0.40                 0.55\n",
       "\n",
       "                                  cmp to     z      p   -log2(p)\n",
       "param  covariate                                                \n",
       "mu_    Intercept                    0.00 10.48 <0.005      82.98\n",
       "       AV                           0.00 -2.28   0.02       5.47\n",
       "       impact_survey_1_tf_1         0.00  6.09 <0.005      29.70\n",
       "       impact_survey_1_tf_2         0.00  6.72 <0.005      35.64\n",
       "       latrine_improved_percent     0.00 -1.60   0.11       3.19\n",
       "       mda_delay                    0.00  3.03 <0.005       8.68\n",
       "       mda_skip_yes                 0.00  2.99 <0.005       8.49\n",
       "       wash_improved_percent        0.00 -2.34   0.02       5.69\n",
       "sigma_ Intercept                    0.00 -9.84 <0.005      73.50\n",
       "---\n",
       "Concordance = 0.83\n",
       "AIC = 622.61\n",
       "log-likelihood ratio test = 109.13 on 7 df\n",
       "-log2(p) of ll-ratio test = 65.96"
      ]
     },
     "metadata": {},
     "output_type": "display_data"
    }
   ],
   "source": [
    "lnf = LogNormalAFTFitter().fit( df = df, duration_col = 'mda_round', event_col ='tf', formula =\"AV + impact_survey_1_tf_1 + impact_survey_1_tf_2 + mda_delay + mda_skip_yes + latrine_improved_percent + wash_improved_percent\")\n",
    "lnf.print_summary()"
   ]
  },
  {
   "cell_type": "markdown",
   "id": "46bc0947",
   "metadata": {},
   "source": [
    "# Machine Learning Application(Random survival model)"
   ]
  },
  {
   "cell_type": "code",
   "execution_count": 32,
   "id": "2f87da5a",
   "metadata": {},
   "outputs": [],
   "source": [
    "# importing libraries\n",
    "from sklearn.model_selection import train_test_split,RandomizedSearchCV\n",
    "from sksurv.ensemble import RandomSurvivalForest, GradientBoostingSurvivalAnalysis\n",
    "from sksurv.preprocessing import OneHotEncoder"
   ]
  },
  {
   "cell_type": "code",
   "execution_count": 33,
   "id": "7099154b",
   "metadata": {},
   "outputs": [],
   "source": [
    "# Data set preparation\n",
    "y = np.genfromtxt('book1.txt', skip_header=1,dtype = [('Event_indicator', bool), ('Time', float)])\n",
    "X = df[['mda_delay','mda_skip_yes',\"AV\",'latrine_improved_percent','wash_improved_percent','impact_survey_1_tf_1','impact_survey_1_tf_2']]"
   ]
  },
  {
   "cell_type": "code",
   "execution_count": 34,
   "id": "1d313efa",
   "metadata": {},
   "outputs": [],
   "source": [
    "# training and testing data split \n",
    "X_train, X_test, y_train, y_test = train_test_split(\n",
    "    X, y, test_size=0.20, random_state= 20)"
   ]
  },
  {
   "cell_type": "code",
   "execution_count": 35,
   "id": "14628fcc",
   "metadata": {},
   "outputs": [
    {
     "data": {
      "text/plain": [
       "0.846749226006192"
      ]
     },
     "execution_count": 35,
     "metadata": {},
     "output_type": "execute_result"
    }
   ],
   "source": [
    "# fit and print the concordance index \n",
    "rsf = RandomSurvivalForest(n_estimators=500,\n",
    "                           min_samples_split=50,\n",
    "                           min_samples_leaf=1,max_features=2,\n",
    "                           max_depth = 10)\n",
    "rsf.fit(X_train, y_train)\n",
    "rsf.score(X_test, y_test)"
   ]
  },
  {
   "cell_type": "code",
   "execution_count": 36,
   "id": "ec87ea26",
   "metadata": {},
   "outputs": [
    {
     "data": {
      "text/html": [
       "\n",
       "    <style>\n",
       "    table.eli5-weights tr:hover {\n",
       "        filter: brightness(85%);\n",
       "    }\n",
       "</style>\n",
       "\n",
       "\n",
       "\n",
       "    \n",
       "\n",
       "    \n",
       "\n",
       "    \n",
       "\n",
       "    \n",
       "\n",
       "    \n",
       "\n",
       "    \n",
       "\n",
       "\n",
       "    \n",
       "\n",
       "    \n",
       "\n",
       "    \n",
       "\n",
       "    \n",
       "\n",
       "    \n",
       "\n",
       "    \n",
       "\n",
       "\n",
       "    \n",
       "\n",
       "    \n",
       "\n",
       "    \n",
       "\n",
       "    \n",
       "\n",
       "    \n",
       "        <table class=\"eli5-weights eli5-feature-importances\" style=\"border-collapse: collapse; border: none; margin-top: 0em; table-layout: auto;\">\n",
       "    <thead>\n",
       "    <tr style=\"border: none;\">\n",
       "        <th style=\"padding: 0 1em 0 0.5em; text-align: right; border: none;\">Weight</th>\n",
       "        <th style=\"padding: 0 0.5em 0 0.5em; text-align: left; border: none;\">Feature</th>\n",
       "    </tr>\n",
       "    </thead>\n",
       "    <tbody>\n",
       "    \n",
       "        <tr style=\"background-color: hsl(120, 100.00%, 80.00%); border: none;\">\n",
       "            <td style=\"padding: 0 1em 0 0.5em; text-align: right; border: none;\">\n",
       "                0.0572\n",
       "                \n",
       "                    &plusmn; 0.0455\n",
       "                \n",
       "            </td>\n",
       "            <td style=\"padding: 0 0.5em 0 0.5em; text-align: left; border: none;\">\n",
       "                impact_survey_1_tf_2\n",
       "            </td>\n",
       "        </tr>\n",
       "    \n",
       "        <tr style=\"background-color: hsl(120, 100.00%, 80.52%); border: none;\">\n",
       "            <td style=\"padding: 0 1em 0 0.5em; text-align: right; border: none;\">\n",
       "                0.0551\n",
       "                \n",
       "                    &plusmn; 0.0320\n",
       "                \n",
       "            </td>\n",
       "            <td style=\"padding: 0 0.5em 0 0.5em; text-align: left; border: none;\">\n",
       "                AV\n",
       "            </td>\n",
       "        </tr>\n",
       "    \n",
       "        <tr style=\"background-color: hsl(120, 100.00%, 85.99%); border: none;\">\n",
       "            <td style=\"padding: 0 1em 0 0.5em; text-align: right; border: none;\">\n",
       "                0.0344\n",
       "                \n",
       "                    &plusmn; 0.0397\n",
       "                \n",
       "            </td>\n",
       "            <td style=\"padding: 0 0.5em 0 0.5em; text-align: left; border: none;\">\n",
       "                mda_delay\n",
       "            </td>\n",
       "        </tr>\n",
       "    \n",
       "        <tr style=\"background-color: hsl(120, 100.00%, 86.02%); border: none;\">\n",
       "            <td style=\"padding: 0 1em 0 0.5em; text-align: right; border: none;\">\n",
       "                0.0343\n",
       "                \n",
       "                    &plusmn; 0.0827\n",
       "                \n",
       "            </td>\n",
       "            <td style=\"padding: 0 0.5em 0 0.5em; text-align: left; border: none;\">\n",
       "                wash_improved_percent\n",
       "            </td>\n",
       "        </tr>\n",
       "    \n",
       "        <tr style=\"background-color: hsl(120, 100.00%, 90.90%); border: none;\">\n",
       "            <td style=\"padding: 0 1em 0 0.5em; text-align: right; border: none;\">\n",
       "                0.0186\n",
       "                \n",
       "                    &plusmn; 0.0213\n",
       "                \n",
       "            </td>\n",
       "            <td style=\"padding: 0 0.5em 0 0.5em; text-align: left; border: none;\">\n",
       "                mda_skip_yes\n",
       "            </td>\n",
       "        </tr>\n",
       "    \n",
       "        <tr style=\"background-color: hsl(120, 100.00%, 93.19%); border: none;\">\n",
       "            <td style=\"padding: 0 1em 0 0.5em; text-align: right; border: none;\">\n",
       "                0.0123\n",
       "                \n",
       "                    &plusmn; 0.0364\n",
       "                \n",
       "            </td>\n",
       "            <td style=\"padding: 0 0.5em 0 0.5em; text-align: left; border: none;\">\n",
       "                impact_survey_1_tf_1\n",
       "            </td>\n",
       "        </tr>\n",
       "    \n",
       "        <tr style=\"background-color: hsl(0, 100.00%, 97.22%); border: none;\">\n",
       "            <td style=\"padding: 0 1em 0 0.5em; text-align: right; border: none;\">\n",
       "                -0.0034\n",
       "                \n",
       "                    &plusmn; 0.0437\n",
       "                \n",
       "            </td>\n",
       "            <td style=\"padding: 0 0.5em 0 0.5em; text-align: left; border: none;\">\n",
       "                latrine_improved_percent\n",
       "            </td>\n",
       "        </tr>\n",
       "    \n",
       "    \n",
       "    </tbody>\n",
       "</table>\n",
       "    \n",
       "\n",
       "    \n",
       "\n",
       "\n",
       "    \n",
       "\n",
       "    \n",
       "\n",
       "    \n",
       "\n",
       "    \n",
       "\n",
       "    \n",
       "\n",
       "    \n",
       "\n",
       "\n",
       "\n"
      ],
      "text/plain": [
       "<IPython.core.display.HTML object>"
      ]
     },
     "execution_count": 36,
     "metadata": {},
     "output_type": "execute_result"
    }
   ],
   "source": [
    "# importance of covariates based on Random survival forest model  \n",
    "from eli5.sklearn import PermutationImportance\n",
    "perm = PermutationImportance(rsf, n_iter=15, random_state=20)\n",
    "perm.fit(X_test, y_test)\n",
    "eli5.show_weights(perm, feature_names=X.columns.tolist())"
   ]
  },
  {
   "cell_type": "markdown",
   "id": "fbcf5651",
   "metadata": {},
   "source": [
    "# conclusion\n",
    "\n",
    "From the above analysis, it can be concluded that the ph regression model is best in modelling the trachoma incident in ethiopia. \n",
    "                  \n",
    "   1. The proportional hazard assumption is not violated\n",
    "   2. The concordance index and AIC is almost equal to AFT models and better than machine learning model\n",
    " The results were an average of 10-fold evaluation in terms of concordant index and mean absolute error. The deep-learning model had significantly better predictions compared with the CPH model, with >10-fold difference between the 2 analytic approaches (mean absolute error for CPH vs deep-learning: 316.2 vs 29.3). However, performance of the deep-learning model was similar when compared with other baseline models for PFS in FS3 (mean absolute error: 29.4 for CoxBoost, 28.8 for CoxLasso, 29.7 for Random Survival Forest, and 29.3 for deep-learning). \n",
    "              "
   ]
  },
  {
   "cell_type": "code",
   "execution_count": null,
   "id": "0d03e39b",
   "metadata": {},
   "outputs": [],
   "source": []
  }
 ],
 "metadata": {
  "kernelspec": {
   "display_name": "Python 3 (ipykernel)",
   "language": "python",
   "name": "python3"
  },
  "language_info": {
   "codemirror_mode": {
    "name": "ipython",
    "version": 3
   },
   "file_extension": ".py",
   "mimetype": "text/x-python",
   "name": "python",
   "nbconvert_exporter": "python",
   "pygments_lexer": "ipython3",
   "version": "3.9.7"
  }
 },
 "nbformat": 4,
 "nbformat_minor": 5
}
